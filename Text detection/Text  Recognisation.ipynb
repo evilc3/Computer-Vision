{
 "cells": [
  {
   "cell_type": "code",
   "execution_count": 1,
   "metadata": {},
   "outputs": [],
   "source": [
    "import cv2\n",
    "cv2.__version__\n",
    "import matplotlib.pyplot as plt\n",
    "import numpy as np\n",
    "import pytesseract\n",
    "from imutils.object_detection import non_max_suppression"
   ]
  },
  {
   "cell_type": "code",
   "execution_count": 2,
   "metadata": {},
   "outputs": [],
   "source": [
    "tnet = cv2.dnn.readNet('./text/frozen_east_text_detection.pb')"
   ]
  },
  {
   "cell_type": "code",
   "execution_count": 3,
   "metadata": {},
   "outputs": [
    {
     "data": {
      "text/plain": [
       "['resnet_v1_50/conv1/Conv2D',\n",
       " 'resnet_v1_50/conv1/BatchNorm/FusedBatchNorm',\n",
       " 'resnet_v1_50/conv1/Relu',\n",
       " 'resnet_v1_50/pool1/MaxPool',\n",
       " 'resnet_v1_50/block1/unit_1/bottleneck_v1/shortcut/Conv2D',\n",
       " 'resnet_v1_50/block1/unit_1/bottleneck_v1/shortcut/BatchNorm/FusedBatchNorm',\n",
       " 'resnet_v1_50/block1/unit_1/bottleneck_v1/conv1/Conv2D',\n",
       " 'resnet_v1_50/block1/unit_1/bottleneck_v1/conv1/BatchNorm/FusedBatchNorm',\n",
       " 'resnet_v1_50/block1/unit_1/bottleneck_v1/conv1/Relu',\n",
       " 'resnet_v1_50/block1/unit_1/bottleneck_v1/conv2/Conv2D',\n",
       " 'resnet_v1_50/block1/unit_1/bottleneck_v1/conv2/BatchNorm/FusedBatchNorm',\n",
       " 'resnet_v1_50/block1/unit_1/bottleneck_v1/conv2/Relu',\n",
       " 'resnet_v1_50/block1/unit_1/bottleneck_v1/conv3/Conv2D',\n",
       " 'resnet_v1_50/block1/unit_1/bottleneck_v1/conv3/BatchNorm/FusedBatchNorm',\n",
       " 'resnet_v1_50/block1/unit_1/bottleneck_v1/add',\n",
       " 'resnet_v1_50/block1/unit_1/bottleneck_v1/Relu',\n",
       " 'resnet_v1_50/block1/unit_2/bottleneck_v1/conv1/Conv2D',\n",
       " 'resnet_v1_50/block1/unit_2/bottleneck_v1/conv1/BatchNorm/FusedBatchNorm',\n",
       " 'resnet_v1_50/block1/unit_2/bottleneck_v1/conv1/Relu',\n",
       " 'resnet_v1_50/block1/unit_2/bottleneck_v1/conv2/Conv2D',\n",
       " 'resnet_v1_50/block1/unit_2/bottleneck_v1/conv2/BatchNorm/FusedBatchNorm',\n",
       " 'resnet_v1_50/block1/unit_2/bottleneck_v1/conv2/Relu',\n",
       " 'resnet_v1_50/block1/unit_2/bottleneck_v1/conv3/Conv2D',\n",
       " 'resnet_v1_50/block1/unit_2/bottleneck_v1/conv3/BatchNorm/FusedBatchNorm',\n",
       " 'resnet_v1_50/block1/unit_2/bottleneck_v1/add',\n",
       " 'resnet_v1_50/block1/unit_2/bottleneck_v1/Relu',\n",
       " 'resnet_v1_50/block1/unit_3/bottleneck_v1/shortcut/MaxPool',\n",
       " 'resnet_v1_50/block1/unit_3/bottleneck_v1/conv1/Conv2D',\n",
       " 'resnet_v1_50/block1/unit_3/bottleneck_v1/conv1/BatchNorm/FusedBatchNorm',\n",
       " 'resnet_v1_50/block1/unit_3/bottleneck_v1/conv1/Relu',\n",
       " 'resnet_v1_50/block1/unit_3/bottleneck_v1/conv2/Conv2D',\n",
       " 'resnet_v1_50/block1/unit_3/bottleneck_v1/conv2/BatchNorm/FusedBatchNorm',\n",
       " 'resnet_v1_50/block1/unit_3/bottleneck_v1/conv2/Relu',\n",
       " 'resnet_v1_50/block1/unit_3/bottleneck_v1/conv3/Conv2D',\n",
       " 'resnet_v1_50/block1/unit_3/bottleneck_v1/conv3/BatchNorm/FusedBatchNorm',\n",
       " 'resnet_v1_50/block1/unit_3/bottleneck_v1/add',\n",
       " 'resnet_v1_50/block1/unit_3/bottleneck_v1/Relu',\n",
       " 'resnet_v1_50/block2/unit_1/bottleneck_v1/shortcut/Conv2D',\n",
       " 'resnet_v1_50/block2/unit_1/bottleneck_v1/shortcut/BatchNorm/FusedBatchNorm',\n",
       " 'resnet_v1_50/block2/unit_1/bottleneck_v1/conv1/Conv2D',\n",
       " 'resnet_v1_50/block2/unit_1/bottleneck_v1/conv1/BatchNorm/FusedBatchNorm',\n",
       " 'resnet_v1_50/block2/unit_1/bottleneck_v1/conv1/Relu',\n",
       " 'resnet_v1_50/block2/unit_1/bottleneck_v1/conv2/Conv2D',\n",
       " 'resnet_v1_50/block2/unit_1/bottleneck_v1/conv2/BatchNorm/FusedBatchNorm',\n",
       " 'resnet_v1_50/block2/unit_1/bottleneck_v1/conv2/Relu',\n",
       " 'resnet_v1_50/block2/unit_1/bottleneck_v1/conv3/Conv2D',\n",
       " 'resnet_v1_50/block2/unit_1/bottleneck_v1/conv3/BatchNorm/FusedBatchNorm',\n",
       " 'resnet_v1_50/block2/unit_1/bottleneck_v1/add',\n",
       " 'resnet_v1_50/block2/unit_1/bottleneck_v1/Relu',\n",
       " 'resnet_v1_50/block2/unit_2/bottleneck_v1/conv1/Conv2D',\n",
       " 'resnet_v1_50/block2/unit_2/bottleneck_v1/conv1/BatchNorm/FusedBatchNorm',\n",
       " 'resnet_v1_50/block2/unit_2/bottleneck_v1/conv1/Relu',\n",
       " 'resnet_v1_50/block2/unit_2/bottleneck_v1/conv2/Conv2D',\n",
       " 'resnet_v1_50/block2/unit_2/bottleneck_v1/conv2/BatchNorm/FusedBatchNorm',\n",
       " 'resnet_v1_50/block2/unit_2/bottleneck_v1/conv2/Relu',\n",
       " 'resnet_v1_50/block2/unit_2/bottleneck_v1/conv3/Conv2D',\n",
       " 'resnet_v1_50/block2/unit_2/bottleneck_v1/conv3/BatchNorm/FusedBatchNorm',\n",
       " 'resnet_v1_50/block2/unit_2/bottleneck_v1/add',\n",
       " 'resnet_v1_50/block2/unit_2/bottleneck_v1/Relu',\n",
       " 'resnet_v1_50/block2/unit_3/bottleneck_v1/conv1/Conv2D',\n",
       " 'resnet_v1_50/block2/unit_3/bottleneck_v1/conv1/BatchNorm/FusedBatchNorm',\n",
       " 'resnet_v1_50/block2/unit_3/bottleneck_v1/conv1/Relu',\n",
       " 'resnet_v1_50/block2/unit_3/bottleneck_v1/conv2/Conv2D',\n",
       " 'resnet_v1_50/block2/unit_3/bottleneck_v1/conv2/BatchNorm/FusedBatchNorm',\n",
       " 'resnet_v1_50/block2/unit_3/bottleneck_v1/conv2/Relu',\n",
       " 'resnet_v1_50/block2/unit_3/bottleneck_v1/conv3/Conv2D',\n",
       " 'resnet_v1_50/block2/unit_3/bottleneck_v1/conv3/BatchNorm/FusedBatchNorm',\n",
       " 'resnet_v1_50/block2/unit_3/bottleneck_v1/add',\n",
       " 'resnet_v1_50/block2/unit_3/bottleneck_v1/Relu',\n",
       " 'resnet_v1_50/block2/unit_4/bottleneck_v1/shortcut/MaxPool',\n",
       " 'resnet_v1_50/block2/unit_4/bottleneck_v1/conv1/Conv2D',\n",
       " 'resnet_v1_50/block2/unit_4/bottleneck_v1/conv1/BatchNorm/FusedBatchNorm',\n",
       " 'resnet_v1_50/block2/unit_4/bottleneck_v1/conv1/Relu',\n",
       " 'resnet_v1_50/block2/unit_4/bottleneck_v1/conv2/Conv2D',\n",
       " 'resnet_v1_50/block2/unit_4/bottleneck_v1/conv2/BatchNorm/FusedBatchNorm',\n",
       " 'resnet_v1_50/block2/unit_4/bottleneck_v1/conv2/Relu',\n",
       " 'resnet_v1_50/block2/unit_4/bottleneck_v1/conv3/Conv2D',\n",
       " 'resnet_v1_50/block2/unit_4/bottleneck_v1/conv3/BatchNorm/FusedBatchNorm',\n",
       " 'resnet_v1_50/block2/unit_4/bottleneck_v1/add',\n",
       " 'resnet_v1_50/block2/unit_4/bottleneck_v1/Relu',\n",
       " 'resnet_v1_50/block3/unit_1/bottleneck_v1/shortcut/Conv2D',\n",
       " 'resnet_v1_50/block3/unit_1/bottleneck_v1/shortcut/BatchNorm/FusedBatchNorm',\n",
       " 'resnet_v1_50/block3/unit_1/bottleneck_v1/conv1/Conv2D',\n",
       " 'resnet_v1_50/block3/unit_1/bottleneck_v1/conv1/BatchNorm/FusedBatchNorm',\n",
       " 'resnet_v1_50/block3/unit_1/bottleneck_v1/conv1/Relu',\n",
       " 'resnet_v1_50/block3/unit_1/bottleneck_v1/conv2/Conv2D',\n",
       " 'resnet_v1_50/block3/unit_1/bottleneck_v1/conv2/BatchNorm/FusedBatchNorm',\n",
       " 'resnet_v1_50/block3/unit_1/bottleneck_v1/conv2/Relu',\n",
       " 'resnet_v1_50/block3/unit_1/bottleneck_v1/conv3/Conv2D',\n",
       " 'resnet_v1_50/block3/unit_1/bottleneck_v1/conv3/BatchNorm/FusedBatchNorm',\n",
       " 'resnet_v1_50/block3/unit_1/bottleneck_v1/add',\n",
       " 'resnet_v1_50/block3/unit_1/bottleneck_v1/Relu',\n",
       " 'resnet_v1_50/block3/unit_2/bottleneck_v1/conv1/Conv2D',\n",
       " 'resnet_v1_50/block3/unit_2/bottleneck_v1/conv1/BatchNorm/FusedBatchNorm',\n",
       " 'resnet_v1_50/block3/unit_2/bottleneck_v1/conv1/Relu',\n",
       " 'resnet_v1_50/block3/unit_2/bottleneck_v1/conv2/Conv2D',\n",
       " 'resnet_v1_50/block3/unit_2/bottleneck_v1/conv2/BatchNorm/FusedBatchNorm',\n",
       " 'resnet_v1_50/block3/unit_2/bottleneck_v1/conv2/Relu',\n",
       " 'resnet_v1_50/block3/unit_2/bottleneck_v1/conv3/Conv2D',\n",
       " 'resnet_v1_50/block3/unit_2/bottleneck_v1/conv3/BatchNorm/FusedBatchNorm',\n",
       " 'resnet_v1_50/block3/unit_2/bottleneck_v1/add',\n",
       " 'resnet_v1_50/block3/unit_2/bottleneck_v1/Relu',\n",
       " 'resnet_v1_50/block3/unit_3/bottleneck_v1/conv1/Conv2D',\n",
       " 'resnet_v1_50/block3/unit_3/bottleneck_v1/conv1/BatchNorm/FusedBatchNorm',\n",
       " 'resnet_v1_50/block3/unit_3/bottleneck_v1/conv1/Relu',\n",
       " 'resnet_v1_50/block3/unit_3/bottleneck_v1/conv2/Conv2D',\n",
       " 'resnet_v1_50/block3/unit_3/bottleneck_v1/conv2/BatchNorm/FusedBatchNorm',\n",
       " 'resnet_v1_50/block3/unit_3/bottleneck_v1/conv2/Relu',\n",
       " 'resnet_v1_50/block3/unit_3/bottleneck_v1/conv3/Conv2D',\n",
       " 'resnet_v1_50/block3/unit_3/bottleneck_v1/conv3/BatchNorm/FusedBatchNorm',\n",
       " 'resnet_v1_50/block3/unit_3/bottleneck_v1/add',\n",
       " 'resnet_v1_50/block3/unit_3/bottleneck_v1/Relu',\n",
       " 'resnet_v1_50/block3/unit_4/bottleneck_v1/conv1/Conv2D',\n",
       " 'resnet_v1_50/block3/unit_4/bottleneck_v1/conv1/BatchNorm/FusedBatchNorm',\n",
       " 'resnet_v1_50/block3/unit_4/bottleneck_v1/conv1/Relu',\n",
       " 'resnet_v1_50/block3/unit_4/bottleneck_v1/conv2/Conv2D',\n",
       " 'resnet_v1_50/block3/unit_4/bottleneck_v1/conv2/BatchNorm/FusedBatchNorm',\n",
       " 'resnet_v1_50/block3/unit_4/bottleneck_v1/conv2/Relu',\n",
       " 'resnet_v1_50/block3/unit_4/bottleneck_v1/conv3/Conv2D',\n",
       " 'resnet_v1_50/block3/unit_4/bottleneck_v1/conv3/BatchNorm/FusedBatchNorm',\n",
       " 'resnet_v1_50/block3/unit_4/bottleneck_v1/add',\n",
       " 'resnet_v1_50/block3/unit_4/bottleneck_v1/Relu',\n",
       " 'resnet_v1_50/block3/unit_5/bottleneck_v1/conv1/Conv2D',\n",
       " 'resnet_v1_50/block3/unit_5/bottleneck_v1/conv1/BatchNorm/FusedBatchNorm',\n",
       " 'resnet_v1_50/block3/unit_5/bottleneck_v1/conv1/Relu',\n",
       " 'resnet_v1_50/block3/unit_5/bottleneck_v1/conv2/Conv2D',\n",
       " 'resnet_v1_50/block3/unit_5/bottleneck_v1/conv2/BatchNorm/FusedBatchNorm',\n",
       " 'resnet_v1_50/block3/unit_5/bottleneck_v1/conv2/Relu',\n",
       " 'resnet_v1_50/block3/unit_5/bottleneck_v1/conv3/Conv2D',\n",
       " 'resnet_v1_50/block3/unit_5/bottleneck_v1/conv3/BatchNorm/FusedBatchNorm',\n",
       " 'resnet_v1_50/block3/unit_5/bottleneck_v1/add',\n",
       " 'resnet_v1_50/block3/unit_5/bottleneck_v1/Relu',\n",
       " 'resnet_v1_50/block3/unit_6/bottleneck_v1/shortcut/MaxPool',\n",
       " 'resnet_v1_50/block3/unit_6/bottleneck_v1/conv1/Conv2D',\n",
       " 'resnet_v1_50/block3/unit_6/bottleneck_v1/conv1/BatchNorm/FusedBatchNorm',\n",
       " 'resnet_v1_50/block3/unit_6/bottleneck_v1/conv1/Relu',\n",
       " 'resnet_v1_50/block3/unit_6/bottleneck_v1/conv2/Conv2D',\n",
       " 'resnet_v1_50/block3/unit_6/bottleneck_v1/conv2/BatchNorm/FusedBatchNorm',\n",
       " 'resnet_v1_50/block3/unit_6/bottleneck_v1/conv2/Relu',\n",
       " 'resnet_v1_50/block3/unit_6/bottleneck_v1/conv3/Conv2D',\n",
       " 'resnet_v1_50/block3/unit_6/bottleneck_v1/conv3/BatchNorm/FusedBatchNorm',\n",
       " 'resnet_v1_50/block3/unit_6/bottleneck_v1/add',\n",
       " 'resnet_v1_50/block3/unit_6/bottleneck_v1/Relu',\n",
       " 'resnet_v1_50/block4/unit_1/bottleneck_v1/shortcut/Conv2D',\n",
       " 'resnet_v1_50/block4/unit_1/bottleneck_v1/shortcut/BatchNorm/FusedBatchNorm',\n",
       " 'resnet_v1_50/block4/unit_1/bottleneck_v1/conv1/Conv2D',\n",
       " 'resnet_v1_50/block4/unit_1/bottleneck_v1/conv1/BatchNorm/FusedBatchNorm',\n",
       " 'resnet_v1_50/block4/unit_1/bottleneck_v1/conv1/Relu',\n",
       " 'resnet_v1_50/block4/unit_1/bottleneck_v1/conv2/Conv2D',\n",
       " 'resnet_v1_50/block4/unit_1/bottleneck_v1/conv2/BatchNorm/FusedBatchNorm',\n",
       " 'resnet_v1_50/block4/unit_1/bottleneck_v1/conv2/Relu',\n",
       " 'resnet_v1_50/block4/unit_1/bottleneck_v1/conv3/Conv2D',\n",
       " 'resnet_v1_50/block4/unit_1/bottleneck_v1/conv3/BatchNorm/FusedBatchNorm',\n",
       " 'resnet_v1_50/block4/unit_1/bottleneck_v1/add',\n",
       " 'resnet_v1_50/block4/unit_1/bottleneck_v1/Relu',\n",
       " 'resnet_v1_50/block4/unit_2/bottleneck_v1/conv1/Conv2D',\n",
       " 'resnet_v1_50/block4/unit_2/bottleneck_v1/conv1/BatchNorm/FusedBatchNorm',\n",
       " 'resnet_v1_50/block4/unit_2/bottleneck_v1/conv1/Relu',\n",
       " 'resnet_v1_50/block4/unit_2/bottleneck_v1/conv2/Conv2D',\n",
       " 'resnet_v1_50/block4/unit_2/bottleneck_v1/conv2/BatchNorm/FusedBatchNorm',\n",
       " 'resnet_v1_50/block4/unit_2/bottleneck_v1/conv2/Relu',\n",
       " 'resnet_v1_50/block4/unit_2/bottleneck_v1/conv3/Conv2D',\n",
       " 'resnet_v1_50/block4/unit_2/bottleneck_v1/conv3/BatchNorm/FusedBatchNorm',\n",
       " 'resnet_v1_50/block4/unit_2/bottleneck_v1/add',\n",
       " 'resnet_v1_50/block4/unit_2/bottleneck_v1/Relu',\n",
       " 'resnet_v1_50/block4/unit_3/bottleneck_v1/conv1/Conv2D',\n",
       " 'resnet_v1_50/block4/unit_3/bottleneck_v1/conv1/BatchNorm/FusedBatchNorm',\n",
       " 'resnet_v1_50/block4/unit_3/bottleneck_v1/conv1/Relu',\n",
       " 'resnet_v1_50/block4/unit_3/bottleneck_v1/conv2/Conv2D',\n",
       " 'resnet_v1_50/block4/unit_3/bottleneck_v1/conv2/BatchNorm/FusedBatchNorm',\n",
       " 'resnet_v1_50/block4/unit_3/bottleneck_v1/conv2/Relu',\n",
       " 'resnet_v1_50/block4/unit_3/bottleneck_v1/conv3/Conv2D',\n",
       " 'resnet_v1_50/block4/unit_3/bottleneck_v1/conv3/BatchNorm/FusedBatchNorm',\n",
       " 'resnet_v1_50/block4/unit_3/bottleneck_v1/add',\n",
       " 'resnet_v1_50/block4/unit_3/bottleneck_v1/Relu',\n",
       " 'feature_fusion/ResizeBilinear',\n",
       " 'feature_fusion/concat',\n",
       " 'feature_fusion/Conv/Conv2D',\n",
       " 'feature_fusion/Conv/BatchNorm/FusedBatchNorm',\n",
       " 'feature_fusion/Conv/Relu',\n",
       " 'feature_fusion/Conv_1/Conv2D',\n",
       " 'feature_fusion/Conv_1/BatchNorm/FusedBatchNorm',\n",
       " 'feature_fusion/Conv_1/Relu',\n",
       " 'feature_fusion/ResizeBilinear_1',\n",
       " 'feature_fusion/concat_1',\n",
       " 'feature_fusion/Conv_2/Conv2D',\n",
       " 'feature_fusion/Conv_2/BatchNorm/FusedBatchNorm',\n",
       " 'feature_fusion/Conv_2/Relu',\n",
       " 'feature_fusion/Conv_3/Conv2D',\n",
       " 'feature_fusion/Conv_3/BatchNorm/FusedBatchNorm',\n",
       " 'feature_fusion/Conv_3/Relu',\n",
       " 'feature_fusion/ResizeBilinear_2',\n",
       " 'feature_fusion/concat_2',\n",
       " 'feature_fusion/Conv_4/Conv2D',\n",
       " 'feature_fusion/Conv_4/BatchNorm/FusedBatchNorm',\n",
       " 'feature_fusion/Conv_4/Relu',\n",
       " 'feature_fusion/Conv_5/Conv2D',\n",
       " 'feature_fusion/Conv_5/BatchNorm/FusedBatchNorm',\n",
       " 'feature_fusion/Conv_5/Relu',\n",
       " 'feature_fusion/Conv_6/Conv2D',\n",
       " 'feature_fusion/Conv_6/BatchNorm/FusedBatchNorm',\n",
       " 'feature_fusion/Conv_6/Relu',\n",
       " 'feature_fusion/Conv_7/Conv2D',\n",
       " 'feature_fusion/Conv_7/Sigmoid',\n",
       " 'feature_fusion/Conv_8/Conv2D',\n",
       " 'feature_fusion/Conv_8/Sigmoid',\n",
       " 'feature_fusion/mul_6',\n",
       " 'feature_fusion/Conv_9/Conv2D',\n",
       " 'feature_fusion/Conv_9/Sigmoid',\n",
       " 'feature_fusion/sub',\n",
       " 'feature_fusion/mul_7',\n",
       " 'feature_fusion/concat_3']"
      ]
     },
     "execution_count": 3,
     "metadata": {},
     "output_type": "execute_result"
    }
   ],
   "source": [
    "tnet.getLayerNames()"
   ]
  },
  {
   "cell_type": "code",
   "execution_count": 3,
   "metadata": {},
   "outputs": [],
   "source": [
    "layerNames = [\n",
    "\t\"feature_fusion/Conv_7/Sigmoid\",\n",
    "\t\"feature_fusion/concat_3\"]"
   ]
  },
  {
   "cell_type": "code",
   "execution_count": 4,
   "metadata": {
    "scrolled": true
   },
   "outputs": [
    {
     "name": "stdout",
     "output_type": "stream",
     "text": [
      "(159, 318, 3)\n"
     ]
    },
    {
     "data": {
      "text/plain": [
       "<matplotlib.image.AxesImage at 0x7f5587bc9f60>"
      ]
     },
     "execution_count": 4,
     "metadata": {},
     "output_type": "execute_result"
    },
    {
     "data": {
      "image/png": "[encoded data removed]",
      "text/plain": [
       "<Figure size 432x288 with 1 Axes>"
      ]
     },
     "metadata": {
      "needs_background": "light"
     },
     "output_type": "display_data"
    }
   ],
   "source": [
    "img = cv2.imread('timage_4.png')\n",
    "print(img.shape)\n",
    "plt.imshow(img)"
   ]
  },
  {
   "cell_type": "code",
   "execution_count": 5,
   "metadata": {},
   "outputs": [
    {
     "data": {
      "text/plain": [
       "318"
      ]
     },
     "execution_count": 5,
     "metadata": {},
     "output_type": "execute_result"
    }
   ],
   "source": [
    "(H, W,_) = img.shape\n",
    "W"
   ]
  },
  {
   "cell_type": "code",
   "execution_count": 6,
   "metadata": {},
   "outputs": [
    {
     "name": "stderr",
     "output_type": "stream",
     "text": [
      "Clipping input data to the valid range for imshow with RGB data ([0..1] for floats or [0..255] for integers).\n"
     ]
    },
    {
     "name": "stdout",
     "output_type": "stream",
     "text": [
      "(1, 3, 320, 320)\n"
     ]
    },
    {
     "data": {
      "text/plain": [
       "<matplotlib.image.AxesImage at 0x7f5587b72780>"
      ]
     },
     "execution_count": 6,
     "metadata": {},
     "output_type": "execute_result"
    },
    {
     "data": {
      "image/png": "[encoded data removed]",
      "text/plain": [
       "<Figure size 432x288 with 1 Axes>"
      ]
     },
     "metadata": {
      "needs_background": "light"
     },
     "output_type": "display_data"
    }
   ],
   "source": [
    "img_blob = cv2.dnn.blobFromImage(img,1.0,(320,320),(123.68,116.78,103.94),swapRB = True,crop=False)\n",
    "print(img_blob.shape)\n",
    "plt.imshow(img_blob.reshape(320,320,3))"
   ]
  },
  {
   "cell_type": "code",
   "execution_count": 7,
   "metadata": {},
   "outputs": [],
   "source": [
    "tnet.setInput(img_blob)\n",
    "(scores, geometry) = tnet.forward(layerNames)\n"
   ]
  },
  {
   "cell_type": "code",
   "execution_count": 8,
   "metadata": {},
   "outputs": [
    {
     "name": "stdout",
     "output_type": "stream",
     "text": [
      "(1, 1, 80, 80)\n",
      "(1, 5, 80, 80)\n"
     ]
    }
   ],
   "source": [
    "print(scores.shape)\n",
    "print(geometry.shape)"
   ]
  },
  {
   "cell_type": "code",
   "execution_count": 10,
   "metadata": {},
   "outputs": [],
   "source": [
    "\n",
    "def decode_predictions(scores, geometry):\n",
    "\t# grab the number of rows and columns from the scores volume, then\n",
    "\t# initialize our set of bounding box rectangles and corresponding\n",
    "\t# confidence scores\n",
    "\t(numRows, numCols) = scores.shape[2:4]\n",
    "\trects = []\n",
    "\tconfidences = []\n",
    "\n",
    "\t# loop over the number of rows\n",
    "\tfor y in range(0, numRows):\n",
    "\t\t# extract the scores (probabilities), followed by the\n",
    "\t\t# geometrical data used to derive potential bounding box\n",
    "\t\t# coordinates that surround text\n",
    "\t\tscoresData = scores[0, 0, y]\n",
    "\t\txData0 = geometry[0, 0, y]\n",
    "\t\txData1 = geometry[0, 1, y]\n",
    "\t\txData2 = geometry[0, 2, y]\n",
    "\t\txData3 = geometry[0, 3, y]\n",
    "\t\tanglesData = geometry[0, 4, y]\n",
    "\n",
    "\t\t# loop over the number of columns\n",
    "\t\tfor x in range(0, numCols):\n",
    "\t\t\t# if our score does not have sufficient probability,\n",
    "\t\t\t# ignore it\n",
    "\t\t\tif scoresData[x] < 0.5:\n",
    "\t\t\t\tcontinue\n",
    "\n",
    "\t\t\t# compute the offset factor as our resulting feature\n",
    "\t\t\t# maps will be 4x smaller than the input image\n",
    "\t\t\t(offsetX, offsetY) = (x * 4.0, y * 4.0)\n",
    "\n",
    "\t\t\t# extract the rotation angle for the prediction and\n",
    "\t\t\t# then compute the sin and cosine\n",
    "\t\t\tangle = anglesData[x]\n",
    "\t\t\tcos = np.cos(angle)\n",
    "\t\t\tsin = np.sin(angle)\n",
    "\n",
    "\t\t\t# use the geometry volume to derive the width and height\n",
    "\t\t\t# of the bounding box\n",
    "\t\t\th = xData0[x] + xData2[x]\n",
    "\t\t\tw = xData1[x] + xData3[x]\n",
    "\n",
    "\t\t\t# compute both the starting and ending (x, y)-coordinates\n",
    "\t\t\t# for the text prediction bounding box\n",
    "\t\t\tendX = int(offsetX + (cos * xData1[x]) + (sin * xData2[x]))\n",
    "\t\t\tendY = int(offsetY - (sin * xData1[x]) + (cos * xData2[x]))\n",
    "\t\t\tstartX = int(endX - w)\n",
    "\t\t\tstartY = int(endY - h)\n",
    "\n",
    "\t\t\t# add the bounding box coordinates and probability score\n",
    "\t\t\t# to our respective lists\n",
    "\t\t\trects.append((startX, startY, endX, endY))\n",
    "\t\t\tconfidences.append(scoresData[x])\n",
    "\n",
    "\t# return a tuple of the bounding boxes and associated confidences\n",
    "\treturn (rects, confidences)\n"
   ]
  },
  {
   "cell_type": "code",
   "execution_count": 11,
   "metadata": {},
   "outputs": [],
   "source": [
    "(rects, confidences) = decode_predictions(scores, geometry)\n"
   ]
  },
  {
   "cell_type": "code",
   "execution_count": 12,
   "metadata": {},
   "outputs": [
    {
     "data": {
      "text/plain": [
       "4"
      ]
     },
     "execution_count": 12,
     "metadata": {},
     "output_type": "execute_result"
    }
   ],
   "source": [
    "boxes = non_max_suppression(np.array(rects), probs=confidences)\n",
    "len(boxes[0])"
   ]
  },
  {
   "cell_type": "code",
   "execution_count": 13,
   "metadata": {
    "scrolled": true
   },
   "outputs": [],
   "source": [
    "startx,starty,endx,endy =  boxes[0]"
   ]
  },
  {
   "cell_type": "code",
   "execution_count": 14,
   "metadata": {},
   "outputs": [
    {
     "name": "stdout",
     "output_type": "stream",
     "text": [
      "0.99375 0.496875\n"
     ]
    }
   ],
   "source": [
    "rW = W / 320.0\n",
    "rH = H / 320.0\n",
    "\n",
    "print(rW,rH)"
   ]
  },
  {
   "cell_type": "code",
   "execution_count": 15,
   "metadata": {},
   "outputs": [
    {
     "data": {
      "text/plain": [
       "<matplotlib.image.AxesImage at 0x7f2ba8df1be0>"
      ]
     },
     "execution_count": 15,
     "metadata": {},
     "output_type": "execute_result"
    },
    {
     "data": {
      "image/png": "[encoded data removed]",
      "text/plain": [
       "<Figure size 432x288 with 1 Axes>"
      ]
     },
     "metadata": {
      "needs_background": "light"
     },
     "output_type": "display_data"
    }
   ],
   "source": [
    "startx = int(startx * rW)\n",
    "starty = int(starty * rH)\n",
    "endx = int(endx * rW)\n",
    "endy = int(endy * rH)\n",
    "\n",
    "\n",
    "\n",
    "cv2.rectangle(img,(startx,starty),(endx,endy),(69,69,69),3)\n",
    "plt.imshow(img)\n",
    "\n",
    "# #post processing \n",
    "# dX = int((endx - startx) * 0.0)\n",
    "# dY = int((endy - starty) * 0.0)\n",
    "\n",
    "# # apply padding to each side of the bounding box, respectively\n",
    "# startx = max(0, startx - dX)\n",
    "# starty = max(0, starty - dY)\n",
    "# endx = min(W, endx + (dX * 2))\n",
    "# endy = min(H, endy + (dY * 2))\n",
    "\n",
    "\n",
    "\n"
   ]
  },
  {
   "cell_type": "code",
   "execution_count": 16,
   "metadata": {},
   "outputs": [
    {
     "name": "stdout",
     "output_type": "stream",
     "text": [
      "some stupid error\n",
      "some stupid error\n",
      "some stupid error\n",
      "some stupid error\n",
      "some stupid error\n",
      "stopping\n"
     ]
    }
   ],
   "source": [
    "#video tutorial\n",
    "\n",
    "cam = cv2.VideoCapture(0)\n",
    "\n",
    "layerNames = [\n",
    "\t\"feature_fusion/Conv_7/Sigmoid\",\n",
    "\t\"feature_fusion/concat_3\"]\n",
    "\n",
    "result = []\n",
    "while True:\n",
    "    \n",
    "    \n",
    "    ret,frame = cam.read()\n",
    "    \n",
    "    \n",
    "    H,W,_ = frame.shape\n",
    "    \n",
    "    \n",
    "    \n",
    "#     if cv2.waitKey(1) ==  ord('a'):\n",
    "        \n",
    "    #create a blob to feed in d neural network.\n",
    "    img_blob = cv2.dnn.blobFromImage(frame,1.0,(320,320),(123.68,116.78,103.94),\n",
    "                                     swapRB = True,crop=False)\n",
    "    \n",
    "    tnet.setInput(img_blob)                                 \n",
    "    \n",
    "                                     \n",
    "    # getting predictions \n",
    "                                     \n",
    "    (scores, geometry) = tnet.forward(layerNames)\n",
    "                                 \n",
    "     \n",
    "    #decoding predictions                                  \n",
    "    (rects, confidences) = decode_predictions(scores, geometry)\n",
    "    \n",
    "    #final filtering apply non-max supression\n",
    "    boxes = non_max_suppression(np.array(rects), probs=confidences)                                 \n",
    "    \n",
    "    \n",
    "    if len(boxes)>0:\n",
    "        #get the box cordinates\n",
    "        #modifing the code to detect multiple boxes.\n",
    "        for n,i in enumerate(boxes):\n",
    "            \n",
    "            startx,starty,endx,endy =  i                             \n",
    "        \n",
    "\n",
    "            #calculating nomalising ratio                                 \n",
    "            rW = W / 320.0\n",
    "            rH = H / 320.0\n",
    "   \n",
    "            #de-normalizing the image                                 \n",
    "            startx = int(startx * rW)\n",
    "            starty = int(starty * rH)\n",
    "            endx = int(endx * rW)\n",
    "            endy = int(endy * rH)\n",
    "            \n",
    "            #trying to extract text using tesceract ocr.\n",
    "            \n",
    "            #1 extract the roi from frame\n",
    "            \n",
    "            roi = frame[starty:endy,startx:endx]\n",
    "             \n",
    "            config = (\"-l eng --oem 1 --psm 7\")\n",
    "            try:\n",
    "                text = pytesseract.image_to_string(roi, config=config)\n",
    "            except:\n",
    "                print('some stupid error')\n",
    "            \n",
    "            \n",
    "            \n",
    "            x_text = \"\".join([c if ord(c) < 122 and ord(c)>=65 else \"\" for c in text]).strip()\n",
    "            \n",
    "            \n",
    "            cv2.putText(frame, x_text, (startx, starty - 20),cv2.FONT_HERSHEY_SIMPLEX, 1.2, (0, 0, 255), 3)\n",
    "            \n",
    "            cv2.rectangle(frame,(startx,starty),(endx,endy),(69,69,69),3)\n",
    "            \n",
    "            if cv2.waitKey(1) == ord('q'):\n",
    "            \n",
    "                cv2.imwrite('result'+str(n)+'.jpg',frame)\n",
    "                print('image saved')\n",
    "    \n",
    "    cv2.imshow('image',frame)\n",
    "    \n",
    "    \n",
    "    if cv2.waitKey(1) == ord('e'): #enter key\n",
    "        \n",
    "        \n",
    "        print(\"stopping\")\n",
    "        \n",
    "        break;\n",
    "\n",
    "cam.release()        \n",
    "cv2.destroyAllWindows()\n"
   ]
  },
  {
   "cell_type": "code",
   "execution_count": 17,
   "metadata": {},
   "outputs": [],
   "source": [
    "cv2.imwrite?"
   ]
  },
  {
   "cell_type": "code",
   "execution_count": 18,
   "metadata": {},
   "outputs": [
    {
     "data": {
      "text/plain": [
       "46"
      ]
     },
     "execution_count": 18,
     "metadata": {},
     "output_type": "execute_result"
    }
   ],
   "source": [
    "ord('.')"
   ]
  }
 ],
 "metadata": {
  "kernelspec": {
   "display_name": "Python 3",
   "language": "python",
   "name": "python3"
  },
  "language_info": {
   "codemirror_mode": {
    "name": "ipython",
    "version": 3
   },
   "file_extension": ".py",
   "mimetype": "text/x-python",
   "name": "python",
   "nbconvert_exporter": "python",
   "pygments_lexer": "ipython3",
   "version": "3.6.7"
  }
 },
 "nbformat": 4,
 "nbformat_minor": 2
}
