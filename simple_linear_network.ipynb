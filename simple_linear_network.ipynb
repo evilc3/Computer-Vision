{
 "cells": [
  {
   "cell_type": "markdown",
   "metadata": {
    "colab_type": "text",
    "id": "bQrFG7UcalIc"
   },
   "source": [
    "Designing a simple linear neural network\n",
    "\n",
    "\n",
    "**Step 1: Imports**"
   ]
  },
  {
   "cell_type": "code",
   "execution_count": 0,
   "metadata": {
    "colab": {},
    "colab_type": "code",
    "id": "zJL9RxmZao4u"
   },
   "outputs": [],
   "source": [
    "%matplotlib inline\n",
    "import matplotlib.pyplot as plt\n",
    "import tensorflow as tf\n",
    "import numpy as np\n",
    "from sklearn.metrics import confusion_matrix\n",
    "from tensorflow.examples.tutorials.mnist import input_data"
   ]
  },
  {
   "cell_type": "code",
   "execution_count": 0,
   "metadata": {
    "colab": {
     "base_uri": "https://localhost:8080/",
     "height": 86
    },
    "colab_type": "code",
    "id": "dt0xoXTgbjN7",
    "outputId": "1ae6ad95-63c1-4c97-a8a5-a53d5e289fa7"
   },
   "outputs": [
    {
     "name": "stdout",
     "output_type": "stream",
     "text": [
      "Extracting data/MNIST/train-images-idx3-ubyte.gz\n",
      "Extracting data/MNIST/train-labels-idx1-ubyte.gz\n",
      "Extracting data/MNIST/t10k-images-idx3-ubyte.gz\n",
      "Extracting data/MNIST/t10k-labels-idx1-ubyte.gz\n"
     ]
    }
   ],
   "source": [
    "data = input_data.read_data_sets(\"data/MNIST/\",one_hot=True)"
   ]
  },
  {
   "cell_type": "code",
   "execution_count": 0,
   "metadata": {
    "colab": {
     "base_uri": "https://localhost:8080/",
     "height": 86
    },
    "colab_type": "code",
    "id": "GdUnhQULcWWd",
    "outputId": "55c3dbd5-951e-4966-8211-75426be53ec5"
   },
   "outputs": [
    {
     "name": "stdout",
     "output_type": "stream",
     "text": [
      "size of :\n",
      "Training set\t\t55000\n",
      "Test-set:\t\t10000\n",
      "validation-set\t\t5000\n"
     ]
    }
   ],
   "source": [
    "print(\"size of :\")\n",
    "print(\"Training set\\t\\t{}\".format(len(data.train.labels)))\n",
    "print(\"Test-set:\\t\\t{}\".format(len(data.test.labels)))\n",
    "print(\"validation-set\\t\\t{}\".format(len(data.validation.labels)))"
   ]
  },
  {
   "cell_type": "code",
   "execution_count": 0,
   "metadata": {
    "colab": {
     "base_uri": "https://localhost:8080/",
     "height": 34
    },
    "colab_type": "code",
    "id": "1j1cHkMRdPba",
    "outputId": "a00b2ca1-dd7b-4bb8-b50d-83c9134cdaeb"
   },
   "outputs": [
    {
     "data": {
      "text/plain": [
       "array([7, 2, 1, 0, 4, 1, 4, 9, 5, 9])"
      ]
     },
     "execution_count": 15,
     "metadata": {
      "tags": []
     },
     "output_type": "execute_result"
    }
   ],
   "source": [
    "data.test.cls = np.array([i.argmax() for i in data.test.labels])\n",
    "data.test.cls[0:10]"
   ]
  },
  {
   "cell_type": "code",
   "execution_count": 0,
   "metadata": {
    "colab": {},
    "colab_type": "code",
    "id": "hVNGXxE5fBg-"
   },
   "outputs": [],
   "source": [
    "# for practice purpose\n",
    "\n",
    "def max(a):\n",
    "  if a>=10:\n",
    "    return a\n",
    "    \n",
    "marks = [50 , 89 ,9 , 78,89,2,99,67]  \n",
    "\n",
    "ops = [ max(i) for i in marks]\n"
   ]
  },
  {
   "cell_type": "code",
   "execution_count": 0,
   "metadata": {
    "colab": {},
    "colab_type": "code",
    "id": "vvBNvWmjg1Sl"
   },
   "outputs": [],
   "source": [
    "# dimmension variables\n",
    "img_size = 28\n",
    "\n",
    "#images are stored in one dimension array \n",
    "img_size_flat = img_size*img_size\n",
    "\n",
    "# height and width of the images\n",
    "img_shape = (img_size,img_size)\n",
    "\n",
    "num_classes =10\n",
    "\n"
   ]
  },
  {
   "cell_type": "code",
   "execution_count": 0,
   "metadata": {
    "colab": {
     "base_uri": "https://localhost:8080/",
     "height": 262
    },
    "colab_type": "code",
    "id": "Jr65uFSmjK5Y",
    "outputId": "77e4201e-b76c-4ca2-8453-47b837a22acb"
   },
   "outputs": [
    {
     "data": {
      "image/png": "[encoded data removed]",
      "text/plain": [
       "<matplotlib.figure.Figure at 0x7f99e2834438>"
      ]
     },
     "metadata": {
      "tags": []
     },
     "output_type": "display_data"
    }
   ],
   "source": [
    "#helper function for plotting images\n",
    "\n",
    "def plot_images(images,cls_true,cls_pred=None):\n",
    "  #assert len(images) == len(cls_true) == 9\n",
    "  \n",
    "  #create figures with 3x3 sub-plots\n",
    "  \n",
    "  fig,axes,=plt.subplots(3,3)\n",
    "  fig.subplots_adjust(hspace=0.3,wspace=0.3)\n",
    "  \n",
    "  \n",
    "  for i,ax in enumerate(axes.flat):\n",
    "    \n",
    "    #plot image\n",
    "    \n",
    "    ax.imshow(images[i].reshape(img_shape),cmap='binary')\n",
    "    \n",
    "    #show true and predicted classes:\n",
    "    \n",
    "    if cls_pred is None:\n",
    "      xlabel = \"True:{0}\".format(cls_true[i])\n",
    "    else:\n",
    "      xlabel = \"True:{0},Pred:{1}\".format(cls_true[i],cls_pred[i])\n",
    "      \n",
    "    ax.set_xlabel(xlabel)\n",
    "    \n",
    "    #remove ticks form the plot\n",
    "    \n",
    "    ax.set_xticks([])\n",
    "    ax.set_yticks([])\n",
    "    \n",
    "    \n",
    "    \n",
    "\n",
    "#plotting images\n",
    "\n",
    "#get the first 10 images\n",
    "images = data.test.images[0:9]\n",
    "\n",
    "#get the true classes of those images\n",
    "cls_true = data.test.cls[0:10]\n",
    "\n",
    "\n",
    "#plot the iamges and labels using the above functon\n",
    "\n",
    "plot_images(images=images,cls_true=cls_true)\n"
   ]
  },
  {
   "cell_type": "markdown",
   "metadata": {
    "colab_type": "text",
    "id": "0gRcqQbqnORG"
   },
   "source": [
    "**GETTING STARTED WITH TENSORFLOW FORM HERE** \n",
    "\n",
    "\n",
    " Placeholder variables"
   ]
  },
  {
   "cell_type": "code",
   "execution_count": 0,
   "metadata": {
    "colab": {},
    "colab_type": "code",
    "id": "6xfPJk94lqM5"
   },
   "outputs": [],
   "source": [
    "\n",
    "x = tf.placeholder(tf.float32,[None,img_size_flat])\n",
    "\n",
    "y_true = tf.placeholder(tf.float32,[None,num_classes])\n",
    "\n",
    "y_true_cls = tf.placeholder(tf.int64,[None])\n"
   ]
  },
  {
   "cell_type": "code",
   "execution_count": 0,
   "metadata": {
    "colab": {},
    "colab_type": "code",
    "id": "dS174Y1Sql-J"
   },
   "outputs": [],
   "source": [
    "\n",
    "#weights and biases .\n",
    "\n",
    "weights = tf.Variable(tf.zeros([img_size_flat,num_classes]))\n",
    "\n",
    "biases = tf.Variable(tf.zeros([num_classes]))\n"
   ]
  },
  {
   "cell_type": "code",
   "execution_count": 0,
   "metadata": {
    "colab": {},
    "colab_type": "code",
    "id": "K8O5c8v0r9mN"
   },
   "outputs": [],
   "source": [
    "# Model \n",
    "# y = wrights*x + biases\n",
    " \n",
    "logits = tf.matmul(x,weights) + biases \n"
   ]
  },
  {
   "cell_type": "code",
   "execution_count": 0,
   "metadata": {
    "colab": {
     "base_uri": "https://localhost:8080/",
     "height": 86
    },
    "colab_type": "code",
    "id": "ZtJhWiD-tWPO",
    "outputId": "ac3f3559-ec9d-4d01-99bb-f167edcb31bc"
   },
   "outputs": [
    {
     "name": "stdout",
     "output_type": "stream",
     "text": [
      "[ 0.5362286   0.          1.5206492   5.788773    0.          0.60290897\n",
      "  0.         11.953764    0.          3.6324568 ]\n",
      "*******\n",
      "7\n"
     ]
    }
   ],
   "source": [
    "# getting the labels \n",
    "\n",
    "\n",
    "y_pred = tf.nn.relu(logits)\n",
    "\n",
    "\n",
    "tmp = session.run(y_pred,feed_dict=feed_dict_test)\n",
    "\n",
    "print(tmp[0])\n",
    "\n",
    "print(\"*******\")\n",
    "\n",
    "print(np.argmax(tmp[0],axis=0))\n",
    "\n"
   ]
  },
  {
   "cell_type": "code",
   "execution_count": 0,
   "metadata": {
    "colab": {
     "base_uri": "https://localhost:8080/",
     "height": 34
    },
    "colab_type": "code",
    "id": "VOVO-_sxtwrj",
    "outputId": "b4b62cfc-bc45-47ff-8c90-0b81a9ccdc07"
   },
   "outputs": [
    {
     "name": "stdout",
     "output_type": "stream",
     "text": [
      "[7 2 1 0 4 1 4 9 6 9]\n"
     ]
    }
   ],
   "source": [
    "y_pred_cls = tf.argmax(y_pred,axis=1)\n",
    "\n",
    "tmp = session.run(y_pred_cls,feed_dict=feed_dict_test)\n",
    "\n",
    "print(tmp[0:10])"
   ]
  },
  {
   "cell_type": "code",
   "execution_count": 0,
   "metadata": {
    "colab": {
     "base_uri": "https://localhost:8080/",
     "height": 176
    },
    "colab_type": "code",
    "id": "fZ7rVl5zuBod",
    "outputId": "269ec76c-c99a-48b4-d1e3-564b2b12a763"
   },
   "outputs": [
    {
     "name": "stdout",
     "output_type": "stream",
     "text": [
      "WARNING:tensorflow:From <ipython-input-24-9d095895c3e9>:1: softmax_cross_entropy_with_logits (from tensorflow.python.ops.nn_ops) is deprecated and will be removed in a future version.\n",
      "Instructions for updating:\n",
      "\n",
      "Future major versions of TensorFlow will allow gradients to flow\n",
      "into the labels input on backprop by default.\n",
      "\n",
      "See @{tf.nn.softmax_cross_entropy_with_logits_v2}.\n",
      "\n"
     ]
    }
   ],
   "source": [
    "# cost - function to be optimzed\n",
    "cross_entropy = tf.nn.softmax_cross_entropy_with_logits(logits=logits,labels=y_true)\n",
    "\n",
    "#cost function to make cost a single scalar value // calculate d average of cross entropy \n",
    "\n",
    "cost = tf.reduce_mean(cross_entropy)"
   ]
  },
  {
   "cell_type": "code",
   "execution_count": 0,
   "metadata": {
    "colab": {},
    "colab_type": "code",
    "id": "MXiMBbQdwY-X"
   },
   "outputs": [],
   "source": [
    "# optimizer method\n",
    "\n",
    "optimizer_1 = tf.train.GradientDescentOptimizer(learning_rate=0.5).minimize(cost)"
   ]
  },
  {
   "cell_type": "code",
   "execution_count": 0,
   "metadata": {
    "colab": {},
    "colab_type": "code",
    "id": "wEfiNfSfw-DP"
   },
   "outputs": [],
   "source": [
    "# note means means average \n",
    "\n",
    "correct_prediction = tf.equal(y_pred_cls,y_true_cls)\n",
    "\n",
    "accuracy = tf.reduce_mean(tf.cast(correct_prediction,tf.float32))  "
   ]
  },
  {
   "cell_type": "code",
   "execution_count": 0,
   "metadata": {
    "colab": {
     "base_uri": "https://localhost:8080/",
     "height": 89
    },
    "colab_type": "code",
    "id": "CeieQVZ5xonq",
    "outputId": "d40a98b2-755c-47db-cdcf-fa74c503c616"
   },
   "outputs": [
    {
     "name": "stdout",
     "output_type": "stream",
     "text": [
      "WARNING:tensorflow:From /usr/local/lib/python3.6/dist-packages/tensorflow/python/util/tf_should_use.py:118: initialize_all_variables (from tensorflow.python.ops.variables) is deprecated and will be removed after 2017-03-02.\n",
      "Instructions for updating:\n",
      "Use `tf.global_variables_initializer` instead.\n"
     ]
    }
   ],
   "source": [
    "#create tensorflow session\n",
    "session = tf.Session()\n",
    "#initialize variables\n",
    "session.run(tf.initialize_all_variables())\n",
    "\n",
    "batch_size =100"
   ]
  },
  {
   "cell_type": "code",
   "execution_count": 0,
   "metadata": {
    "colab": {},
    "colab_type": "code",
    "id": "rk5Dn1BJyDdq"
   },
   "outputs": [],
   "source": [
    "#optimizer funtion\n",
    "\n",
    "\n",
    "def optimizer(num_iterations):\n",
    "  \n",
    "  for i in range(num_iterations):\n",
    "    \n",
    "    x_batch,y_batch = data.train.next_batch(batch_size)\n",
    "    \n",
    "    \n",
    "    #y_true_cls is only used  during testing\n",
    "    \n",
    "    feed_dict_train = {x:x_batch,y_true:y_batch}\n",
    "    \n",
    "    session.run(optimizer_1,feed_dict=feed_dict_train)\n"
   ]
  },
  {
   "cell_type": "code",
   "execution_count": 0,
   "metadata": {
    "colab": {},
    "colab_type": "code",
    "id": "wcoNa6dizjAE"
   },
   "outputs": [],
   "source": [
    "feed_dict_test = {x:data.test.images,y_true:data.test.labels,y_true_cls:data.test.cls}"
   ]
  },
  {
   "cell_type": "code",
   "execution_count": 0,
   "metadata": {
    "colab": {},
    "colab_type": "code",
    "id": "ZXDjuREHzxqd"
   },
   "outputs": [],
   "source": [
    "def print_accuracy():\n",
    "  \n",
    "  acc = session.run(accuracy,feed_dict=feed_dict_test)\n",
    "  \n",
    "  print(\"Accuracy o test-set:{0:.4%}\".format(acc))"
   ]
  },
  {
   "cell_type": "code",
   "execution_count": 0,
   "metadata": {
    "colab": {},
    "colab_type": "code",
    "id": "CH8hGlJRJ3jo"
   },
   "outputs": [],
   "source": []
  },
  {
   "cell_type": "code",
   "execution_count": 0,
   "metadata": {
    "colab": {
     "base_uri": "https://localhost:8080/",
     "height": 34
    },
    "colab_type": "code",
    "id": "LoFolQnw2_BY",
    "outputId": "ca6e058e-0b8f-41b7-aca2-7f584254034f"
   },
   "outputs": [
    {
     "name": "stdout",
     "output_type": "stream",
     "text": [
      "Accuracy o test-set:9.8000%\n"
     ]
    }
   ],
   "source": [
    "print_accuracy()"
   ]
  },
  {
   "cell_type": "code",
   "execution_count": 0,
   "metadata": {
    "colab": {
     "base_uri": "https://localhost:8080/",
     "height": 34
    },
    "colab_type": "code",
    "id": "DVqGbRyV3Zmt",
    "outputId": "3b642be8-406a-4615-fefc-594dc223cd58"
   },
   "outputs": [
    {
     "name": "stdout",
     "output_type": "stream",
     "text": [
      "Accuracy o test-set:91.5500%\n"
     ]
    }
   ],
   "source": [
    "optimizer(num_iterations=550)\n",
    "print_accuracy()"
   ]
  },
  {
   "cell_type": "code",
   "execution_count": 0,
   "metadata": {
    "colab": {},
    "colab_type": "code",
    "id": "_r9edSkn628B"
   },
   "outputs": [],
   "source": [
    "def plot_example_errors():\n",
    "    # Use TensorFlow to get a list of boolean values\n",
    "    # whether each test-image has been correctly classified,\n",
    "    # and a list for the predicted class of each image.\n",
    "    correct, cls_pred = session.run([correct_prediction, y_pred_cls],\n",
    "                                    feed_dict=feed_dict_test)\n",
    "\n",
    "    # Negate the boolean array.\n",
    "    incorrect = (correct == False)\n",
    "    \n",
    "    # Get the images from the test-set that have been\n",
    "    # incorrectly classified.\n",
    "    images = data.test.images[incorrect]\n",
    "    \n",
    "    # Get the predicted classes for those images.\n",
    "    cls_pred = cls_pred[incorrect]\n",
    "\n",
    "    # Get the true classes for those images.\n",
    "    cls_true = data.test.cls[incorrect]\n",
    "    \n",
    "    # Plot the first 9 images.\n",
    "    plot_images(images=images[0:9],\n",
    "                cls_true=cls_true[0:9],\n",
    "                cls_pred=cls_pred[0:9]) "
   ]
  },
  {
   "cell_type": "code",
   "execution_count": 0,
   "metadata": {
    "colab": {
     "base_uri": "https://localhost:8080/",
     "height": 262
    },
    "colab_type": "code",
    "id": "88BttBsR457V",
    "outputId": "08f7d579-ca93-4876-e4e9-7286fa1f56d8"
   },
   "outputs": [
    {
     "data": {
      "image/png": "[encoded data removed]",
      "text/plain": [
       "<matplotlib.figure.Figure at 0x7f99e5103f28>"
      ]
     },
     "metadata": {
      "tags": []
     },
     "output_type": "display_data"
    }
   ],
   "source": [
    "plot_example_errors()"
   ]
  },
  {
   "cell_type": "code",
   "execution_count": 0,
   "metadata": {
    "colab": {
     "base_uri": "https://localhost:8080/",
     "height": 279
    },
    "colab_type": "code",
    "id": "gak32ba75DNt",
    "outputId": "eb627d32-7c39-42ee-9805-5b3d0b387acb"
   },
   "outputs": [
    {
     "name": "stdout",
     "output_type": "stream",
     "text": [
      "Accuracy o test-set:92.1100%\n"
     ]
    },
    {
     "data": {
      "image/png": "[encoded data removed]",
      "text/plain": [
       "<matplotlib.figure.Figure at 0x7f99c70c8a58>"
      ]
     },
     "metadata": {
      "tags": []
     },
     "output_type": "display_data"
    }
   ],
   "source": [
    "optimizer(num_iterations=500)\n",
    "print_accuracy()\n",
    "plot_example_errors()"
   ]
  },
  {
   "cell_type": "code",
   "execution_count": 0,
   "metadata": {
    "colab": {},
    "colab_type": "code",
    "id": "h74G-RkPJ5HX"
   },
   "outputs": [],
   "source": [
    "\n",
    "\n",
    "import tensorflow as tf\n",
    "import numpy as np\n",
    "\n",
    "input_data = np.array([[0,0],[0,1],[1,0],[1,1]])\n",
    "\n",
    "y = np.array([[0,1,1,0]])\n",
    "\n",
    "# input data\n",
    "data = tf.placeholder(tf.int32,[None,2])\n",
    "\n",
    "# true output\n",
    "y_true = tf.placeholder(tf.int32,[None,4])\n",
    "\n",
    "#pred . y value\n",
    "\n",
    "y_pred = tf.placeholder(tf.int32,[None])\n",
    "\n",
    "\n",
    "#weights of layer 1\n",
    "w1 = tf.Variable(tf.zeros(2,2))\n",
    "\n",
    "\n",
    "#weights of layer 2\n",
    "w2 = tf.Variable(tf.zeros(1,2))\n",
    "\n",
    "#biases of layer 1\n",
    "b1 = tf.Variable(tf.zeros(2,1))\n",
    "\n",
    "#biases of layer 2\n",
    "b2 = tf.Variable(tf.zeros(1,1))\n",
    "\n",
    "#layer 1\n",
    "h1 = tf.matmul(data,w1) + b1\n",
    "\n",
    "a1 = tf.nn.sigmoid(h1)\n",
    "\n",
    "h2 = tf.matmul(w2,a1) + b2\n",
    "\n",
    "y_pred = tf.nn.sigmoid(h2)\n",
    "\n",
    "\n",
    "# defining cost function \n",
    "\n",
    "cross_entropy = tf.nn.sigmoid_cross_entropy_with_logits(logits=y_pred,labels=y_true)\n",
    "\n",
    "cost = tf.reduce_mean(cross_entropy)\n",
    "\n",
    "\n",
    "\n",
    "#optimizer \n",
    "\n",
    "optimizer = tf.train.GradientDescentOptimizer(learning_rate = 0.03).mimimize(cost)\n",
    "\n",
    "session = tf.Session()\n",
    "\n",
    "session.run(tf.initialize_all_variables)\n",
    "\n",
    "#xxxxxxxxxxxxxxxxxxxxxxxxxxxxxxx\n",
    "\n",
    "feed_dict_train = {data:input_data,y_true:y}\n",
    "\n",
    "\n",
    "\n",
    "session.run(optimizer,feed_dict=feed_dict_train)\n",
    "\n",
    "#calculating accuracy\n",
    "correct_prediction = tf.equal(y_pred,y_true)\n",
    "\n",
    "accuracy = tf.reduce_mean(tf.cast(correct_prediction,tf.float32)) \n",
    "\n",
    "\n",
    "acc = session.run(accuracy,feed_dict=feed_dict_train)\n",
    "print(\"Accuracy o test-set:{0:.4%}\".format(acc))\n",
    " \n",
    "\n",
    "\n",
    "session.close()"
   ]
  }
 ],
 "metadata": {
  "accelerator": "GPU",
  "colab": {
   "collapsed_sections": [],
   "name": "simple_linear_network.ipynb",
   "provenance": [],
   "version": "0.3.2"
  },
  "kernelspec": {
   "display_name": "Python 3",
   "language": "python",
   "name": "python3"
  },
  "language_info": {
   "codemirror_mode": {
    "name": "ipython",
    "version": 3
   },
   "file_extension": ".py",
   "mimetype": "text/x-python",
   "name": "python",
   "nbconvert_exporter": "python",
   "pygments_lexer": "ipython3",
   "version": "3.6.7"
  }
 },
 "nbformat": 4,
 "nbformat_minor": 1
}
