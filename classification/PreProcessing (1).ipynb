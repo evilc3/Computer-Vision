{
  "nbformat": 4,
  "nbformat_minor": 0,
  "metadata": {
    "colab": {
      "name": "PreProcessing.ipynb",
      "version": "0.3.2",
      "provenance": [],
      "collapsed_sections": []
    },
    "kernelspec": {
      "name": "python3",
      "display_name": "Python 3"
    }
  },
  "cells": [
    {
      "cell_type": "markdown",
      "metadata": {
        "id": "NjC4CNdFbu7O",
        "colab_type": "text"
      },
      "source": [
        "<h1>**Image processing**</h1>"
      ]
    },
    {
      "cell_type": "code",
      "metadata": {
        "id": "bFvgTdF-erQX",
        "colab_type": "code",
        "colab": {}
      },
      "source": [
        "#importing helper library\n",
        "\n",
        "import matplotlib.pyplot as plt\n",
        "import numpy as np"
      ],
      "execution_count": 0,
      "outputs": []
    },
    {
      "cell_type": "code",
      "metadata": {
        "id": "-uoRAn_yTcvX",
        "colab_type": "code",
        "outputId": "edc4f6bc-30e6-4c52-ebfc-9b365959757a",
        "colab": {
          "base_uri": "https://localhost:8080/",
          "height": 34
        }
      },
      "source": [
        "#importing all image  datasets from keras\n",
        "from keras.datasets import mnist\n",
        "from keras.datasets import cifar10\n",
        "from keras.datasets import fashion_mnist\n"
      ],
      "execution_count": 0,
      "outputs": [
        {
          "output_type": "stream",
          "text": [
            "Using TensorFlow backend.\n"
          ],
          "name": "stderr"
        }
      ]
    },
    {
      "cell_type": "code",
      "metadata": {
        "id": "77Vfrt-ne4Zv",
        "colab_type": "code",
        "colab": {}
      },
      "source": [
        "# importing helper and preprocessing libraries form keras\n",
        "\n",
        "from keras.preprocessing.image import ImageDataGenerator\n",
        "\n"
      ],
      "execution_count": 0,
      "outputs": []
    },
    {
      "cell_type": "code",
      "metadata": {
        "id": "D4yJTxJ4X85F",
        "colab_type": "code",
        "outputId": "b7d59c2e-f915-4b11-a90c-5e5677d288c3",
        "colab": {
          "base_uri": "https://localhost:8080/",
          "height": 241
        }
      },
      "source": [
        "#loading all datasets\n",
        "\n",
        "(mnist_train, mnist_train_label), (mnist_test, mnist_test_label) = mnist.load_data()\n",
        "(cifar10_train,cifar10_train_label),(cifar10_test,cifar10_test_label) = cifar10.load_data()\n",
        "(fashion_train,fashion_train_label),(fashion_test,fashion_test_label) = fashion_mnist.load_data()\n",
        "\n"
      ],
      "execution_count": 0,
      "outputs": [
        {
          "output_type": "stream",
          "text": [
            "Downloading data from https://s3.amazonaws.com/img-datasets/mnist.npz\n",
            "11493376/11490434 [==============================] - 2s 0us/step\n",
            "Downloading data from https://www.cs.toronto.edu/~kriz/cifar-10-python.tar.gz\n",
            "170500096/170498071 [==============================] - 18s 0us/step\n",
            "Downloading data from http://fashion-mnist.s3-website.eu-central-1.amazonaws.com/train-labels-idx1-ubyte.gz\n",
            "32768/29515 [=================================] - 0s 3us/step\n",
            "Downloading data from http://fashion-mnist.s3-website.eu-central-1.amazonaws.com/train-images-idx3-ubyte.gz\n",
            "26427392/26421880 [==============================] - 2s 0us/step\n",
            "Downloading data from http://fashion-mnist.s3-website.eu-central-1.amazonaws.com/t10k-labels-idx1-ubyte.gz\n",
            "8192/5148 [===============================================] - 0s 0us/step\n",
            "Downloading data from http://fashion-mnist.s3-website.eu-central-1.amazonaws.com/t10k-images-idx3-ubyte.gz\n",
            "4423680/4422102 [==============================] - 1s 0us/step\n"
          ],
          "name": "stdout"
        }
      ]
    },
    {
      "cell_type": "code",
      "metadata": {
        "id": "9ocNiV6cX89y",
        "colab_type": "code",
        "outputId": "6a1cb948-51f6-4a37-ef58-ff96e00c9845",
        "colab": {
          "base_uri": "https://localhost:8080/",
          "height": 68
        }
      },
      "source": [
        "def printer(str):\n",
        "    print(str)\n",
        "\n",
        "printer(mnist_train.shape)\n",
        "printer(cifar10_train.shape)\n",
        "printer(fashion_train.shape)\n",
        "\n",
        "\n"
      ],
      "execution_count": 0,
      "outputs": [
        {
          "output_type": "stream",
          "text": [
            "(60000, 28, 28)\n",
            "(50000, 32, 32, 3)\n",
            "(60000, 28, 28)\n"
          ],
          "name": "stdout"
        }
      ]
    },
    {
      "cell_type": "code",
      "metadata": {
        "id": "4k6ivaVoemT4",
        "colab_type": "code",
        "outputId": "9e193e5d-68ea-4ed4-a5f1-b98576778344",
        "colab": {
          "base_uri": "https://localhost:8080/",
          "height": 615
        }
      },
      "source": [
        "#visualzation images\n",
        "def visualizer(imgs , figs = (15,15) ,c = None):\n",
        "    _,a = plt.subplots(3,3,figsize = figs) \n",
        "    \n",
        "    for i,j in enumerate(a.flat):\n",
        "        j.imshow(imgs[i],cmap = c)\n",
        "        \n",
        "  \n",
        "\n",
        "#visualizer(mnist_train[0:16], (5,5) , c='gray' )  \n",
        "visualizer(fashion_train[0:16],(10,10),'binary')\n",
        "#visualizer(cifar10_train[0:16])\n"
      ],
      "execution_count": 0,
      "outputs": [
        {
          "output_type": "display_data",
          "data": {
            "image/png": "[encoded data removed]",
            "text/plain": [
              "<Figure size 720x720 with 9 Axes>"
            ]
          },
          "metadata": {
            "tags": []
          }
        }
      ]
    },
    {
      "cell_type": "markdown",
      "metadata": {
        "id": "JM23-Mtndwfk",
        "colab_type": "text"
      },
      "source": [
        "<h3>ImageDataGenerator class</h3>\n",
        "\n",
        "Generate batches of tensor image data with real-time data augmentation. The data will be looped over (in batches).\n",
        "\n",
        "\n",
        " To use datagenerator use the following 3 methods \n",
        " \n",
        " datagen = ImageDataGenerator(\n",
        " \n",
        "    featurewise_center=True,\n",
        "    featurewise_std_normalization=True,\n",
        "    rotation_range=20,\n",
        "    width_shift_range=0.2,\n",
        "    height_shift_range=0.2,\n",
        "    horizontal_flip=True)\n",
        "\n",
        "datagen.fit(x_train)\n",
        "\n",
        "datagen.flow(x_train, y_train, batch_size=32),\n",
        "                    steps_per_epoch=len(x_train) / 32, epochs=epochs)\n",
        "\n",
        "\n",
        "\n",
        "\n",
        "\n",
        "\n",
        "\n"
      ]
    },
    {
      "cell_type": "code",
      "metadata": {
        "id": "_HbVyqSAX9Dg",
        "colab_type": "code",
        "colab": {}
      },
      "source": [
        "#image preprocessing \n",
        "\n",
        "\n",
        "datagen = ImageDataGenerator(\n",
        "    featurewise_center=True,\n",
        "    featurewise_std_normalization=True,\n",
        "    rotation_range=20,\n",
        "    width_shift_range=0.2,\n",
        "    height_shift_range=0.2,\n",
        "    horizontal_flip=True)\n",
        "\n",
        "# compute quantities required for featurewise normalization\n",
        "# (std, mean, and principal components if ZCA whitening is applied)\n",
        "datagen.fit(fashion_train.reshape(60000,28,28,1))\n",
        "\n",
        "# fits the model on batches with real-time data augmentation:\n",
        "it = datagen.flow(fashion_train.reshape(60000,28,28,1),fashion_train_label,batch_size = 16)\n"
      ],
      "execution_count": 0,
      "outputs": []
    },
    {
      "cell_type": "code",
      "metadata": {
        "id": "D-pXjXu1X9Bi",
        "colab_type": "code",
        "outputId": "bdfd533b-4027-4f65-c9a8-38d039bca9a8",
        "colab": {
          "base_uri": "https://localhost:8080/",
          "height": 887
        }
      },
      "source": [
        "data = np.array(next(it)[0])\n",
        "#it.next()\n",
        "\n",
        "visualizer(data.reshape(16,28,28))"
      ],
      "execution_count": 0,
      "outputs": [
        {
          "output_type": "display_data",
          "data": {
            "image/png": "[encoded data removed]",
            "text/plain": [
              "<Figure size 1080x1080 with 9 Axes>"
            ]
          },
          "metadata": {
            "tags": []
          }
        }
      ]
    },
    {
      "cell_type": "code",
      "metadata": {
        "id": "FlRWu6YiwBFi",
        "colab_type": "code",
        "colab": {}
      },
      "source": [
        "cifar10gen = ImageDataGenerator(\n",
        "     rotation_range = 20,\n",
        "     width_shift_range = 0.2,\n",
        "     height_shift_range = 0.2,\n",
        "     horizontal_flip = True)\n",
        "\n",
        "cifar10gen.fit(cifar10_train)\n",
        "\n",
        "iterator = cifar10gen.flow(cifar10_train,cifar10_train_label,batch_size = 16)\n",
        "    \n",
        "\n"
      ],
      "execution_count": 0,
      "outputs": []
    },
    {
      "cell_type": "code",
      "metadata": {
        "id": "pprrl_XryHd9",
        "colab_type": "code",
        "outputId": "afcf4320-0e9c-406e-9621-bb03b582478c",
        "colab": {
          "base_uri": "https://localhost:8080/",
          "height": 887
        }
      },
      "source": [
        "data = np.array(next(iterator)[0],dtype = 'uint8')\n",
        "\n",
        "data.shape\n",
        "\n",
        "\n",
        "visualizer(data)\n"
      ],
      "execution_count": 0,
      "outputs": [
        {
          "output_type": "display_data",
          "data": {
            "image/png": "[encoded data removed]",
            "text/plain": [
              "<Figure size 1080x1080 with 9 Axes>"
            ]
          },
          "metadata": {
            "tags": []
          }
        }
      ]
    },
    {
      "cell_type": "markdown",
      "metadata": {
        "id": "eUt3uqmEItGD",
        "colab_type": "text"
      },
      "source": [
        "SEQUENCE PROCESING "
      ]
    },
    {
      "cell_type": "code",
      "metadata": {
        "id": "NWZGrpaMIrAe",
        "colab_type": "code",
        "colab": {}
      },
      "source": [
        "#importing tt data\n",
        "\n",
        "# note- imdb movies for sentimental classification\n",
        "\n",
        "from keras.datasets import imdb\n",
        "from keras.datasets import reuters\n",
        "from keras.datasets import boston_housing\n",
        "\n"
      ],
      "execution_count": 0,
      "outputs": []
    },
    {
      "cell_type": "code",
      "metadata": {
        "id": "5yspudEtKKwN",
        "colab_type": "code",
        "outputId": "7a7b52b0-178d-46b3-d920-398f1ab3dc77",
        "colab": {
          "base_uri": "https://localhost:8080/",
          "height": 71
        }
      },
      "source": [
        "(imdb_train,imdb_train_label),(imdb_test,imdb_test_label) = imdb.load_data(path = \"imdb.npz\",\n",
        "                                                                           num_words = None,\n",
        "                                                                           skip_top = 0, \n",
        "                                                                           maxlen=None,\n",
        "                                                                           seed=113,\n",
        "                                                                           start_char=1,\n",
        "                                                                           oov_char=2,\n",
        "                                                                           index_from=3)"
      ],
      "execution_count": 0,
      "outputs": [
        {
          "output_type": "stream",
          "text": [
            "Downloading data from https://s3.amazonaws.com/text-datasets/imdb.npz\n",
            "17465344/17464789 [==============================] - 0s 0us/step\n"
          ],
          "name": "stdout"
        }
      ]
    },
    {
      "cell_type": "code",
      "metadata": {
        "id": "k2ErFkmLKK5E",
        "colab_type": "code",
        "outputId": "5302502b-8e39-42f1-fbaf-e8274bb44d33",
        "colab": {
          "base_uri": "https://localhost:8080/",
          "height": 51
        }
      },
      "source": [
        "#importing preprocessing \n",
        "seq = [[1,2,3,4,5,6,7,8,9,10,21,12,13,14],[1,2,3]]\n",
        "\n",
        "s = '''this this This /'' class allows to vectorize a text corpus, \n",
        "     by turning each text into either a sequence of \n",
        "  '''\n",
        "\n",
        "from keras.preprocessing.sequence import TimeseriesGenerator\n",
        "from keras.preprocessing.sequence import pad_sequences\n",
        "\n",
        "\n",
        "pad_sequences?\n",
        "\n",
        "pad_sequences(seq, \n",
        "              maxlen=7, \n",
        "              dtype = 'int32' ,\n",
        "              padding='post', \n",
        "              truncating='pre', \n",
        "              value=0)\n",
        "\n",
        "\n"
      ],
      "execution_count": 0,
      "outputs": [
        {
          "output_type": "execute_result",
          "data": {
            "text/plain": [
              "array([[ 8,  9, 10, 21, 12, 13, 14],\n",
              "       [ 1,  2,  3,  0,  0,  0,  0]], dtype=int32)"
            ]
          },
          "metadata": {
            "tags": []
          },
          "execution_count": 50
        }
      ]
    },
    {
      "cell_type": "code",
      "metadata": {
        "id": "E6g2yFSbNl9Z",
        "colab_type": "code",
        "colab": {}
      },
      "source": [
        "from keras.preprocessing.sequence import skipgrams"
      ],
      "execution_count": 0,
      "outputs": []
    },
    {
      "cell_type": "code",
      "metadata": {
        "id": "gZFDzAFiKLFP",
        "colab_type": "code",
        "outputId": "495ebd70-0e3a-4b5b-dd02-576e9678a38c",
        "colab": {
          "base_uri": "https://localhost:8080/",
          "height": 71
        }
      },
      "source": [
        "from keras.preprocessing.sequence import skipgrams\n",
        "from keras.preprocessing.sequence import make_sampling_table\n",
        "\n",
        "\n",
        "\n",
        "\n",
        "content,label =  skipgrams([1,2,3,4], \n",
        "                           vocabulary_size = 4 ,\n",
        "                           window_size=1, \n",
        "                           negative_samples=1.0,  \n",
        "                           categorical=False, \n",
        "                           sampling_table=None, \n",
        "                           seed=None)\n",
        "print(content)\n",
        "print(label)"
      ],
      "execution_count": 0,
      "outputs": [
        {
          "output_type": "stream",
          "text": [
            "[[2, 1], [2, 2], [3, 2], [2, 3], [3, 2], [3, 1], [1, 2], [1, 1], [2, 2], [4, 2], [3, 4], [4, 3]]\n",
            "[1, 0, 0, 1, 1, 0, 1, 0, 0, 0, 1, 1]\n"
          ],
          "name": "stdout"
        }
      ]
    },
    {
      "cell_type": "code",
      "metadata": {
        "id": "J4nqYL-2Sofh",
        "colab_type": "code",
        "outputId": "7190e353-490a-462b-f13d-b0725e2660f6",
        "colab": {
          "base_uri": "https://localhost:8080/",
          "height": 68
        }
      },
      "source": [
        "'''\n",
        "''''''The make_sampling_table() operation creates a \n",
        "table that skipgrams uses to ensure it produces\n",
        "negative samples in a balanced manner and not just \n",
        "the most common words.  The skipgrams operation by default\n",
        "selects the same amount of\n",
        "negative samples as it does true context words.\n",
        "\n",
        "'''\n",
        "make_sampling_table(14, sampling_factor=1e-05)"
      ],
      "execution_count": 0,
      "outputs": [
        {
          "output_type": "execute_result",
          "data": {
            "text/plain": [
              "array([0.00315225, 0.00315225, 0.00547597, 0.00741556, 0.00912817,\n",
              "       0.01068435, 0.01212381, 0.01347162, 0.01474487, 0.0159558 ,\n",
              "       0.0171136 , 0.01822533, 0.01929662, 0.02033198])"
            ]
          },
          "metadata": {
            "tags": []
          },
          "execution_count": 16
        }
      ]
    },
    {
      "cell_type": "code",
      "metadata": {
        "id": "jRxVoPnhXQfh",
        "colab_type": "code",
        "outputId": "6d9a4119-24cb-4ea9-906f-8fdd99d6eee3",
        "colab": {
          "base_uri": "https://localhost:8080/",
          "height": 340
        }
      },
      "source": [
        "from keras.preprocessing.text import text_to_word_sequence\n",
        "\n",
        "a = text_to_word_sequence(s, \n",
        "                      filters='!\"#$%&()\\'*+,-./:;<=>?@[\\]^_`{|}~\\n'\n",
        "                      , lower=True, split=' ')\n",
        "a"
      ],
      "execution_count": 0,
      "outputs": [
        {
          "output_type": "execute_result",
          "data": {
            "text/plain": [
              "['this',\n",
              " 'this',\n",
              " 'this',\n",
              " 'class',\n",
              " 'allows',\n",
              " 'to',\n",
              " 'vectorize',\n",
              " 'a',\n",
              " 'text',\n",
              " 'corpus',\n",
              " 'by',\n",
              " 'turning',\n",
              " 'each',\n",
              " 'text',\n",
              " 'into',\n",
              " 'either',\n",
              " 'a',\n",
              " 'sequence',\n",
              " 'of']"
            ]
          },
          "metadata": {
            "tags": []
          },
          "execution_count": 17
        }
      ]
    },
    {
      "cell_type": "code",
      "metadata": {
        "id": "s9nz9jrl376O",
        "colab_type": "code",
        "colab": {}
      },
      "source": [
        ""
      ],
      "execution_count": 0,
      "outputs": []
    },
    {
      "cell_type": "code",
      "metadata": {
        "id": "AJHzqrGZYdlG",
        "colab_type": "code",
        "outputId": "cce3380d-cdf9-423d-f611-8b23c784f7da",
        "colab": {
          "base_uri": "https://localhost:8080/",
          "height": 34
        }
      },
      "source": [
        "from  keras.preprocessing.text import one_hot\n",
        "one_hot(s,n= len(set(a)) \n",
        "        , filters='!\"#$%&()*+,-./:;\\'<=>?@[\\]^_`{|}~\\n',\n",
        "        lower=True, \n",
        "        split=' ')"
      ],
      "execution_count": 0,
      "outputs": [
        {
          "output_type": "execute_result",
          "data": {
            "text/plain": [
              "[11, 11, 11, 4, 1, 12, 12, 2, 12, 3, 9, 8, 7, 12, 4, 5, 2, 5, 10]"
            ]
          },
          "metadata": {
            "tags": []
          },
          "execution_count": 18
        }
      ]
    },
    {
      "cell_type": "markdown",
      "metadata": {
        "id": "SFizr0AL38iM",
        "colab_type": "text"
      },
      "source": [
        "#Tokenizer API\n",
        "\n",
        "\n",
        "1>So far we have looked at one-off convenience methods for preparing text with Keras.\n",
        "\n",
        "Keras provides a more sophisticated API for preparing text that can be fit and reused to prepare multiple text documents. This may be the preferred approach for large projects.\n",
        "\n",
        "Keras provides the Tokenizer class for preparing text documents for deep learning. The Tokenizer must be constructed and then fit on either raw text documents or integer encoded text documents.\n",
        "\n",
        "2>The texts_to_matrix() function on the Tokenizer can be used to create one vector per document provided per input. The length of the vectors is the total size of the vocabulary.\n",
        "\n",
        "This function provides a suite of standard bag-of-words model text encoding schemes that can be provided via a mode argument to the function.\n",
        "\n",
        "The modes available include:\n",
        "\n",
        "‘binary‘: Whether or not each word is present in the document. This is the default.\n",
        "‘count‘: The count of each word in the document.\n",
        "‘tfidf‘: The Text Frequency-Inverse DocumentFrequency (TF-IDF) scoring for each word in the document.\n",
        "‘freq‘: The frequency of each word as a ratio of words within each document.\n"
      ]
    },
    {
      "cell_type": "code",
      "metadata": {
        "id": "QsBMjsfqKLOe",
        "colab_type": "code",
        "outputId": "b304e23f-8755-4c9b-b8d0-c8905fe32dac",
        "colab": {
          "base_uri": "https://localhost:8080/",
          "height": 156
        }
      },
      "source": [
        "#Text Preprocessing\n",
        "\n",
        "\n",
        "from keras.preprocessing.text import Tokenizer\n",
        "\n",
        "docs = ['Well done!',\n",
        "\t\t'Good work',\n",
        "\t\t'Great effort',\n",
        "\t\t'nice work',\n",
        "\t\t'Excellent!']\n",
        "\n",
        "token = Tokenizer(\n",
        "          \n",
        "          filters='!\"#$%&()*+,-./:;<=>?@[\\]^_`{|}~', \n",
        "          lower=True, \n",
        "          split=' ', \n",
        "          char_level=False, \n",
        "          oov_token=None, document_count=1)\n",
        "\n",
        "# oov stands for out of vocublary words or <ukn>\n",
        "\n",
        "\n",
        "\n",
        "token.fit_on_texts(docs)\n",
        "\n",
        "\n",
        "print('word_counts:',token.word_counts)\n",
        "print('word_docs:',token.word_docs)\n",
        "\n",
        "\n",
        "token.texts_to_matrix(docs)\n",
        "\n"
      ],
      "execution_count": 0,
      "outputs": [
        {
          "output_type": "stream",
          "text": [
            "word_counts: OrderedDict([('well', 1), ('done', 1), ('good', 1), ('work', 2), ('great', 1), ('effort', 1), ('nice', 1), ('excellent', 1)])\n",
            "word_docs: defaultdict(<class 'int'>, {'done': 1, 'well': 1, 'work': 2, 'good': 1, 'great': 1, 'effort': 1, 'nice': 1, 'excellent': 1})\n"
          ],
          "name": "stdout"
        },
        {
          "output_type": "execute_result",
          "data": {
            "text/plain": [
              "array([[0., 0., 1., 1., 0., 0., 0., 0., 0.],\n",
              "       [0., 1., 0., 0., 1., 0., 0., 0., 0.],\n",
              "       [0., 0., 0., 0., 0., 1., 1., 0., 0.],\n",
              "       [0., 1., 0., 0., 0., 0., 0., 1., 0.],\n",
              "       [0., 0., 0., 0., 0., 0., 0., 0., 1.]])"
            ]
          },
          "metadata": {
            "tags": []
          },
          "execution_count": 31
        }
      ]
    },
    {
      "cell_type": "code",
      "metadata": {
        "id": "7JfZxuX-1eJ6",
        "colab_type": "code",
        "outputId": "e7dc80d5-fe7f-4996-97e6-9c9a147ff65d",
        "colab": {
          "base_uri": "https://localhost:8080/",
          "height": 153
        }
      },
      "source": [
        "#appling text processing on data\n",
        "\n",
        "data = '''ouse Speaker John Boehner became animated Tuesday over the proposed Keystone Pipeline, castigating the Obama administration for not having approved the project yet.\n",
        "\n",
        "Republican House Speaker John Boehner says there's \"nothing complex about the Keystone Pipeline,\" and that it's time to build it.\n",
        "\n",
        "\"Complex? You think the Keystone Pipeline is complex?!\" Boehner responded to a questioner. \"It's been under study for five years! We build pipelines in America every day. Do you realize there are 200,000 miles of pipelines in the United States?\"\n",
        "\n",
        "The speaker went on: \"And the only reason the president's involved in the Keystone Pipeline is because it crosses an international boundary. Listen, we can build it. There's nothing complex about the Keystone Pipeline -- it's time to build it.\"\n",
        "\n",
        "Boehner said the president had no excuse at this point to not give the pipeline the go-ahead after the State Department released a report on Friday indicating the project would have a minimal impact on the environment.\n",
        "\n",
        "Republicans have long pushed for construction of the project, which enjoys some measure of Democratic support as well. The GOP is considering conditioning an extension of the debt limit on approval of the project by Obama.\n",
        "\n",
        "The White House, though, has said that it has no timetable for a final decision on the project.\n",
        "\n",
        "'''\n",
        "\n",
        "#step 1 splitting the words \n",
        "from keras.preprocessing import text\n",
        "\n",
        "stop_words = '--?.!'\n",
        "\n",
        "words  = text.text_to_word_sequence(data,filters = stop_words)\n",
        "\n",
        "\n",
        "#step2 tokenizing \n",
        "\n",
        "'''\n",
        "num_words=None, filters='!\"#$%&()*+,-./:;<=>?@[\\\\]^_`{|}~\\t\\n', \n",
        "lower=True, split=' ',\n",
        "char_level=False, oov_token=None, document_count=0, **kwargs)\n",
        "'''\n",
        "\n",
        "\n",
        "tokens =  text.text.Tokenizer(num_words = len(set(words)))\n",
        "\n",
        "tokens.fit_on_texts(data)\n",
        "\n",
        "print('length of volab',len(set(words)))\n",
        "tokens.texts_to_matrix('said that he was cute',mode = 'freq')\n",
        "\n",
        "\n",
        "\n",
        "\n"
      ],
      "execution_count": 0,
      "outputs": [
        {
          "output_type": "stream",
          "text": [
            "length of volab 137\n"
          ],
          "name": "stdout"
        },
        {
          "output_type": "execute_result",
          "data": {
            "text/plain": [
              "array([[0., 0., 0., ..., 0., 0., 0.],\n",
              "       [0., 0., 0., ..., 0., 0., 0.],\n",
              "       [0., 0., 0., ..., 0., 0., 0.],\n",
              "       ...,\n",
              "       [0., 0., 0., ..., 0., 0., 0.],\n",
              "       [0., 0., 1., ..., 0., 0., 0.],\n",
              "       [0., 1., 0., ..., 0., 0., 0.]])"
            ]
          },
          "metadata": {
            "tags": []
          },
          "execution_count": 45
        }
      ]
    },
    {
      "cell_type": "markdown",
      "metadata": {
        "id": "qc4YluMyaJRB",
        "colab_type": "text"
      },
      "source": [
        "#Keras.Utils"
      ]
    },
    {
      "cell_type": "code",
      "metadata": {
        "id": "esk5V_p8KLC9",
        "colab_type": "code",
        "outputId": "c9f8d81f-787f-4a94-c9c4-30b6051054b1",
        "colab": {
          "base_uri": "https://localhost:8080/",
          "height": 102
        }
      },
      "source": [
        "# to categorical()\n",
        "\n",
        "\n",
        "from keras.utils import to_categorical\n",
        "cat_mnist_train_data = to_categorical(mnist_train_label,num_classes = 10)\n",
        "\n",
        "\n",
        "cat_mnist_train_data[0:5]"
      ],
      "execution_count": 0,
      "outputs": [
        {
          "output_type": "execute_result",
          "data": {
            "text/plain": [
              "array([[0., 0., 0., 0., 0., 1., 0., 0., 0., 0.],\n",
              "       [1., 0., 0., 0., 0., 0., 0., 0., 0., 0.],\n",
              "       [0., 0., 0., 0., 1., 0., 0., 0., 0., 0.],\n",
              "       [0., 1., 0., 0., 0., 0., 0., 0., 0., 0.],\n",
              "       [0., 0., 0., 0., 0., 0., 0., 0., 0., 1.]], dtype=float32)"
            ]
          },
          "metadata": {
            "tags": []
          },
          "execution_count": 20
        }
      ]
    },
    {
      "cell_type": "code",
      "metadata": {
        "id": "RuF_dE24bSpn",
        "colab_type": "code",
        "outputId": "e1353d4d-f9be-41dc-e6d3-5ae3ec741e7c",
        "colab": {
          "base_uri": "https://localhost:8080/",
          "height": 292
        }
      },
      "source": [
        "#normalize \n",
        "from keras.utils import normalize\n",
        "\n",
        "\n",
        "print(mnist_train[0][0:5][0:5])\n",
        "\n",
        "\n",
        "normalize(mnist_train[0][0:5][0:5])\n",
        "\n"
      ],
      "execution_count": 0,
      "outputs": [
        {
          "output_type": "stream",
          "text": [
            "[[0 0 0 0 0 0 0 0 0 0 0 0 0 0 0 0 0 0 0 0 0 0 0 0 0 0 0 0]\n",
            " [0 0 0 0 0 0 0 0 0 0 0 0 0 0 0 0 0 0 0 0 0 0 0 0 0 0 0 0]\n",
            " [0 0 0 0 0 0 0 0 0 0 0 0 0 0 0 0 0 0 0 0 0 0 0 0 0 0 0 0]\n",
            " [0 0 0 0 0 0 0 0 0 0 0 0 0 0 0 0 0 0 0 0 0 0 0 0 0 0 0 0]\n",
            " [0 0 0 0 0 0 0 0 0 0 0 0 0 0 0 0 0 0 0 0 0 0 0 0 0 0 0 0]]\n"
          ],
          "name": "stdout"
        },
        {
          "output_type": "execute_result",
          "data": {
            "text/plain": [
              "array([[0., 0., 0., 0., 0., 0., 0., 0., 0., 0., 0., 0., 0., 0., 0., 0.,\n",
              "        0., 0., 0., 0., 0., 0., 0., 0., 0., 0., 0., 0.],\n",
              "       [0., 0., 0., 0., 0., 0., 0., 0., 0., 0., 0., 0., 0., 0., 0., 0.,\n",
              "        0., 0., 0., 0., 0., 0., 0., 0., 0., 0., 0., 0.],\n",
              "       [0., 0., 0., 0., 0., 0., 0., 0., 0., 0., 0., 0., 0., 0., 0., 0.,\n",
              "        0., 0., 0., 0., 0., 0., 0., 0., 0., 0., 0., 0.],\n",
              "       [0., 0., 0., 0., 0., 0., 0., 0., 0., 0., 0., 0., 0., 0., 0., 0.,\n",
              "        0., 0., 0., 0., 0., 0., 0., 0., 0., 0., 0., 0.],\n",
              "       [0., 0., 0., 0., 0., 0., 0., 0., 0., 0., 0., 0., 0., 0., 0., 0.,\n",
              "        0., 0., 0., 0., 0., 0., 0., 0., 0., 0., 0., 0.]])"
            ]
          },
          "metadata": {
            "tags": []
          },
          "execution_count": 21
        }
      ]
    }
  ]
}