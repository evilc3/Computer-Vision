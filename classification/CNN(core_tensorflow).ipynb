{
  "nbformat": 4,
  "nbformat_minor": 0,
  "metadata": {
    "colab": {
      "name": "CNN(core_tensorflow).ipynb",
      "version": "0.3.2",
      "provenance": []
    },
    "kernelspec": {
      "name": "python3",
      "display_name": "Python 3"
    }
  },
  "cells": [
    {
      "metadata": {
        "id": "J2YktpyMoH69",
        "colab_type": "text"
      },
      "cell_type": "markdown",
      "source": [
        "***STEP 1:IMPORTS***"
      ]
    },
    {
      "metadata": {
        "id": "nfqHxyexnfY2",
        "colab_type": "code",
        "colab": {}
      },
      "cell_type": "code",
      "source": [
        "%matplotlib inline\n",
        "import matplotlib.pyplot as plt\n",
        "import tensorflow as tf\n",
        "import numpy as np"
      ],
      "execution_count": 0,
      "outputs": []
    },
    {
      "metadata": {
        "id": "1OrJyL09pW4_",
        "colab_type": "code",
        "outputId": "9b2f076b-2160-46bc-d7be-1abe94f8a403",
        "colab": {
          "base_uri": "https://localhost:8080/",
          "height": 86
        }
      },
      "cell_type": "code",
      "source": [
        "# step 1 load the data \n",
        "from tensorflow.examples.tutorials.mnist import input_data\n",
        "\n",
        "data = input_data.read_data_sets(\"data/MNIST/\",one_hot=True)\n",
        "\n",
        "\n",
        "# sub step is used to get the no. form 0 - 9 form the labels\n",
        "\n",
        "#data.train.cls = [ labes.argmax() for labels in data.train.labels]\n",
        "\n",
        "data.test.cls = np.argmax(data.test.labels,axis=1)\n",
        "\n",
        "\n",
        "#we need to flatten the image so 28 * 28\n",
        "\n",
        "img_size = 28\n",
        "\n",
        "img_size_flat = 28*28\n",
        "\n",
        "num_channels = 1 # no. of color channels for img. 1 for gray-scale\n",
        "\n",
        "# no. of classes\n",
        "\n",
        "num_classes =10 # 10 for 10 digits\n"
      ],
      "execution_count": 0,
      "outputs": [
        {
          "output_type": "stream",
          "text": [
            "Extracting data/MNIST/train-images-idx3-ubyte.gz\n",
            "Extracting data/MNIST/train-labels-idx1-ubyte.gz\n",
            "Extracting data/MNIST/t10k-images-idx3-ubyte.gz\n",
            "Extracting data/MNIST/t10k-labels-idx1-ubyte.gz\n"
          ],
          "name": "stdout"
        }
      ]
    },
    {
      "metadata": {
        "id": "G72_-tZE6Ccu",
        "colab_type": "text"
      },
      "cell_type": "markdown",
      "source": [
        "**STEP 2:CREATE MODEL**"
      ]
    },
    {
      "metadata": {
        "id": "pOtrhqcqpYIQ",
        "colab_type": "code",
        "colab": {}
      },
      "cell_type": "code",
      "source": [
        "#Setp 2 :Creating the model\n",
        "\n",
        "#Sub step a: setting up variables for the cnn\n",
        "\n",
        "#Convolution Layer 1;\n",
        "\n",
        "filter_size1 = 5 #convolution filters 5 x 5 pixels (image size 748)\n",
        "num_filters1 = 16 # There are 16 of these filters\n",
        "\n",
        "#Convolution Layer 2.\n",
        "filter_size2 = 5\n",
        "num_filters2 = 36 \n",
        "\n",
        "#Fully - connected layer (sometimes called the dence layer )\n",
        "\n",
        "fc_size = 128 # no of nerons in fully connected layer.\n",
        "\n",
        "# creatig the model\n",
        "def new_weights(shape):\n",
        "  return tf.Variable(tf.truncated_normal(shape,stddev=0.05))\n",
        "\n",
        "def new_biases(length):\n",
        "  return tf.Variable(tf.constant(0.05,shape=[length]))\n",
        "\n",
        "'''input is 4 dim tensor \n",
        "   1.image no \n",
        "   2. y-axis  of each image\n",
        "   3.x-axis of each image\n",
        "   4.channels of each image\n",
        "'''\n",
        "\n",
        "''' output is 4 dim tensor\n",
        "    1.img no. same as input\n",
        "    2.y-axis of each img . if pooling is used 2 x 2 (height x width)/2\n",
        "    3.x-axis\n",
        "    4.Channel\n",
        "'''\n",
        "\n",
        "\n",
        "\n",
        "#function for creating the convolutin layer\n",
        "def new_conv_layer(input1, #the output of previous layer \n",
        "                   num_input_channels,#Num.of channels in prev. layer\n",
        "                   filter_size ,#Width and height of each filter\n",
        "                   num_filters,\n",
        "                   use_pooling=True):\n",
        "  #use 2x2 max-pooling\n",
        "  \n",
        "  #shape of filter weights for convolution\n",
        "  \n",
        "  shape = [filter_size,filter_size,num_input_channels,num_filters]\n",
        "  \n",
        "  #create a new weight , filters with given shape.\n",
        "  \n",
        "  weights = new_weights(shape=shape)\n",
        "  \n",
        "  #create new  biases\n",
        "  \n",
        "  biases = new_biases(length=num_filters)\n",
        "  \n",
        "  \n",
        "\n",
        "  '''note learn more abt. strides'''\n",
        "  \n",
        "  #create the first layer\n",
        "  \n",
        "  layer = tf.nn.conv2d(input=input1,filter = weights,strides=[1,1,1,1],padding='SAME')\n",
        "  \n",
        "  \n",
        "  \n",
        "  #Add the biases to the result of the convolution.\n",
        "  #A bias-value is added to each filter-channel.  \n",
        "  \n",
        "  layer+=biases\n",
        "  \n",
        "  '''addition step over here is the pooling layer'''\n",
        "  \n",
        "  if use_pooling:\n",
        "    \n",
        "    layer = tf.nn.max_pool(value=layer,ksize=[1,2,2,1],strides=[1,2,2,1],padding='SAME')\n",
        "    \n",
        "    \n",
        "  \n",
        "  #activation layer using relu\n",
        "  '''working : it calculates max(x,0) for each input'''\n",
        "   \n",
        "  layer = tf.nn.relu(layer)  \n",
        "\n",
        "  return layer,weights\n",
        "\n",
        "\n",
        "\n",
        "\n",
        "\n",
        "#function for flattening layer \n",
        "''' input is 4 dim tensor  output is 2 dim tensor'''\n",
        "\n",
        "def flatten_layer(layer):\n",
        "  \n",
        "  # get the shape of the input layer\n",
        "  \n",
        "  layer_shape = layer.get_shape()\n",
        "  \n",
        "  #the no. of features is:img_height*img_width,num_channel\n",
        "  new_features = layer_shape[1:4].num_elements()\n",
        "  '''find out more on the tensorflow operation'''\n",
        "  \n",
        "  layer_flat = tf.reshape(layer,[-1,new_features])\n",
        "  \n",
        "  return layer_flat,new_features\n",
        "\n",
        "\n",
        "#function for fully-connected layer\n",
        "\n",
        "\n",
        "def new_fc_layer(input,num_inputs,num_outputs,use_relu=True):\n",
        "  \n",
        "  weights = new_weights(shape=[num_inputs,num_outputs])\n",
        "  \n",
        "  biases =  new_biases(length=num_outputs)\n",
        "  \n",
        "  layer = tf.matmul(input,weights)+biases\n",
        "  \n",
        "  \n",
        "  \n",
        "  #use relu\n",
        "  \n",
        "  if use_relu:\n",
        "     layer = tf.nn.relu(layer)\n",
        "      \n",
        "  return layer    \n",
        "  \n",
        "\n",
        "\n",
        "\n"
      ],
      "execution_count": 0,
      "outputs": []
    },
    {
      "metadata": {
        "id": "Zy-_soRJ5Smp",
        "colab_type": "text"
      },
      "cell_type": "markdown",
      "source": [
        "**Placeholders**"
      ]
    },
    {
      "metadata": {
        "id": "b57qTXbZtjRm",
        "colab_type": "code",
        "colab": {}
      },
      "cell_type": "code",
      "source": [
        "x = tf.placeholder(shape=[None,784],dtype=tf.float32 , name=\"x\") # used for taken in the images\n",
        "\n",
        "# since convolution layer excepts a 4 dim tensor\n",
        "# num_images x image_height x img_width x no_of_channels\n",
        "x_image = tf.reshape(x,[-1,img_size,img_size,num_channels])\n",
        "\n",
        "#y _true will give a matrx containing labels \n",
        "y_true = tf.placeholder(shape=[None,num_classes],dtype=tf.float32,name=\"y\")\n",
        "\n",
        "#get the no. form the labels\n",
        "\n",
        "y_true_cls = tf.argmax(y_true,axis=1)\n",
        "\n"
      ],
      "execution_count": 0,
      "outputs": []
    },
    {
      "metadata": {
        "id": "agpdz8-Q75Rb",
        "colab_type": "text"
      },
      "cell_type": "markdown",
      "source": [
        "**CREATING AND CONNECTION LAYERS"
      ]
    },
    {
      "metadata": {
        "id": "IZzxnvG58BxA",
        "colab_type": "code",
        "outputId": "079c001e-05b2-4bd4-ca84-d03e74eeb5df",
        "colab": {
          "base_uri": "https://localhost:8080/",
          "height": 34
        }
      },
      "cell_type": "code",
      "source": [
        "#layer 1\n",
        "layer_conv1, weights_conv1 = new_conv_layer(input1=x_image,num_input_channels=num_channels,filter_size=filter_size1,num_filters=num_filters1,use_pooling=True)\n",
        "\n",
        "layer_conv1\n",
        "\n",
        "#layer 2\n",
        "\n",
        "\n",
        "layer_conv2, weights_conv2 = \\\n",
        "    new_conv_layer(input1=layer_conv1,\n",
        "                   num_input_channels=num_filters1,\n",
        "                   filter_size=filter_size2,\n",
        "                   num_filters=num_filters2,\n",
        "                   use_pooling=True)\n",
        "\n",
        "\n",
        "\n",
        "layer_conv2\n",
        "\n",
        "#layer 3 flatten layer\n",
        "\n",
        "layer_flat,num_features = flatten_layer(layer_conv2)\n",
        "\n",
        "layer_flat\n",
        "\n",
        "num_features\n",
        "\n",
        "\n",
        "#layer 4 fully connected layer\n",
        "\n",
        "layer_fc1 = new_fc_layer(input=layer_flat,num_inputs=num_features,num_outputs=fc_size,use_relu=False)\n",
        "\n",
        "layer_fc1\n",
        "\n",
        "#layer 5 fully connected layer 2\n",
        "\n",
        "layer_fc2 = new_fc_layer(input=layer_fc1,\n",
        "                         num_inputs=fc_size,\n",
        "                         num_outputs=num_classes,\n",
        "                         use_relu=False)\n",
        "\n",
        "layer_fc2\n",
        "\n"
      ],
      "execution_count": 0,
      "outputs": [
        {
          "output_type": "execute_result",
          "data": {
            "text/plain": [
              "<tf.Tensor 'add_24:0' shape=(?, 10) dtype=float32>"
            ]
          },
          "metadata": {
            "tags": []
          },
          "execution_count": 100
        }
      ]
    },
    {
      "metadata": {
        "id": "c-_9rZeGAnvx",
        "colab_type": "code",
        "colab": {}
      },
      "cell_type": "code",
      "source": [
        "y_pred = tf.nn.softmax(layer_fc2)\n",
        "\n",
        "y_pred_cls = tf.argmax(y_pred,axis=1)"
      ],
      "execution_count": 0,
      "outputs": []
    },
    {
      "metadata": {
        "id": "z5Vx50d9A7gB",
        "colab_type": "text"
      },
      "cell_type": "markdown",
      "source": [
        "**STEP 3: CLACULATE COST**"
      ]
    },
    {
      "metadata": {
        "id": "FMHl37aEA651",
        "colab_type": "code",
        "colab": {}
      },
      "cell_type": "code",
      "source": [
        "cost = tf.reduce_mean(tf.nn.softmax_cross_entropy_with_logits(logits=layer_fc2,labels=y_true))"
      ],
      "execution_count": 0,
      "outputs": []
    },
    {
      "metadata": {
        "id": "N1MR05l7B9LR",
        "colab_type": "text"
      },
      "cell_type": "markdown",
      "source": [
        "**STEP 4: INITIALIZE THE OPTIMIZER**"
      ]
    },
    {
      "metadata": {
        "id": "v1E2PKXrCF2E",
        "colab_type": "code",
        "colab": {}
      },
      "cell_type": "code",
      "source": [
        "optimizer1 = tf.train.AdamOptimizer(learning_rate=1e-4).minimize(cost)"
      ],
      "execution_count": 0,
      "outputs": []
    },
    {
      "metadata": {
        "id": "jqd1Wr_rEtGy",
        "colab_type": "code",
        "colab": {}
      },
      "cell_type": "code",
      "source": [
        "correct_prediction = tf.equal(y_pred_cls, y_true_cls)"
      ],
      "execution_count": 0,
      "outputs": []
    },
    {
      "metadata": {
        "id": "0SHWVWojEtVP",
        "colab_type": "code",
        "colab": {}
      },
      "cell_type": "code",
      "source": [
        "accuracy = tf.reduce_mean(tf.cast(correct_prediction, tf.float32))"
      ],
      "execution_count": 0,
      "outputs": []
    },
    {
      "metadata": {
        "id": "fNgZVpgxCcCk",
        "colab_type": "text"
      },
      "cell_type": "markdown",
      "source": [
        "**STEP 5:RUN FUNCTON**"
      ]
    },
    {
      "metadata": {
        "id": "EaoCz2OQCamj",
        "colab_type": "code",
        "colab": {}
      },
      "cell_type": "code",
      "source": [
        "session  = tf.Session()\n",
        "session.run(tf.global_variables_initializer())\n",
        "train_batch_size = 100\n"
      ],
      "execution_count": 0,
      "outputs": []
    },
    {
      "metadata": {
        "id": "k_eXxwh5DSFh",
        "colab_type": "code",
        "colab": {}
      },
      "cell_type": "code",
      "source": [
        "def optimizer(num_iterations):\n",
        "  \n",
        "  for i in range(num_iterations):\n",
        "    \n",
        "    x_batch,y_batch = data.train.next_batch(train_batch_size)\n",
        "    \n",
        "    \n",
        "    #y_true_cls is only used  during testing\n",
        "    \n",
        "    feed_dict_train = {x:x_batch,y_true:y_batch}\n",
        "    \n",
        "    session.run(optimizer1,feed_dict=feed_dict_train)\n",
        "   \n",
        "    if i % 100 == 0:\n",
        "      \n",
        "      acc = session.run(accuracy,feed_dict={x:data.train.images,y_true:data.train.labels})\n",
        "      print(\"accuracy:.2%\".format(acc))\n",
        "      \n",
        "    \n",
        "  \n",
        "  \n",
        "  \n",
        "  \n",
        "  \n",
        "  "
      ],
      "execution_count": 0,
      "outputs": []
    },
    {
      "metadata": {
        "id": "r2MmTy23cGgu",
        "colab_type": "code",
        "outputId": "f60a93e5-5854-478e-cbdd-d344c2d59ab1",
        "colab": {
          "base_uri": "https://localhost:8080/",
          "height": 34
        }
      },
      "cell_type": "code",
      "source": [
        "optimize(100)"
      ],
      "execution_count": 0,
      "outputs": [
        {
          "output_type": "stream",
          "text": [
            "Optimization Iteration:      1, Training Accuracy:  13.0%\n"
          ],
          "name": "stdout"
        }
      ]
    },
    {
      "metadata": {
        "id": "RFlucZBLDofO",
        "colab_type": "text"
      },
      "cell_type": "markdown",
      "source": [
        "**STEP 6 : ADDITIONAL FUNCTONS FOR  PLOTTING IMAGE GRAPHS**"
      ]
    },
    {
      "metadata": {
        "id": "I_q2JWprETum",
        "colab_type": "code",
        "colab": {}
      },
      "cell_type": "code",
      "source": [
        "# helper function for potting images\n",
        "def plot_images(images, cls_true, cls_pred=None):\n",
        "    #assert len(images) == len(cls_true) == 9\n",
        "    \n",
        "    # Create figure with 3x3 sub-plots.\n",
        "    fig, axes = plt.subplots(3, 3)\n",
        "    fig.subplots_adjust(hspace=0.3, wspace=0.3)\n",
        "\n",
        "    for i, ax in enumerate(axes.flat):\n",
        "        # Plot image.\n",
        "        ax.imshow(images[i].reshape(img_shape), cmap='binary')\n",
        "\n",
        "        # Show true and predicted classes.\n",
        "        if cls_pred is None:\n",
        "            xlabel = \"True: {0}\".format(cls_true[i])\n",
        "        else:\n",
        "            xlabel = \"True: {0}, Pred: {1}\".format(cls_true[i], cls_pred[i])\n",
        "\n",
        "        # Show the classes as the label on the x-axis.\n",
        "        ax.set_xlabel(xlabel)\n",
        "        \n",
        "        # Remove ticks from the plot.\n",
        "      \n",
        "    \n",
        "    # Ensure the plot is shown correctly with multiple plots\n",
        "    # in a single Notebook cell.\n",
        "    plt.show()"
      ],
      "execution_count": 0,
      "outputs": []
    },
    {
      "metadata": {
        "id": "oAbawSs1EgsC",
        "colab_type": "code",
        "colab": {}
      },
      "cell_type": "code",
      "source": [
        "#function to display error images\n",
        "def plot_example_errors(cls_pred, correct):\n",
        "    # This function is called from print_test_accuracy() below.\n",
        "\n",
        "    # cls_pred is an array of the predicted class-number for\n",
        "    # all images in the test-set.\n",
        "\n",
        "    # correct is a boolean array whether the predicted class\n",
        "    # is equal to the true class for each image in the test-set.\n",
        "\n",
        "    # Negate the boolean array.\n",
        "    incorrect = (correct == False)\n",
        "    \n",
        "    # Get the images from the test-set that have been\n",
        "    # incorrectly classified.\n",
        "    images = data.test.images[incorrect]\n",
        "    \n",
        "    # Get the predicted classes for those images.\n",
        "    cls_pred = cls_pred[incorrect]\n",
        "\n",
        "    # Get the true classes for those images.\n",
        "    cls_true = data.test.cls[incorrect]\n",
        "    \n",
        "    # Plot the first 9 images.\n",
        "    plot_images(images=images[0:9],\n",
        "                cls_true=cls_true[0:9],\n",
        "                cls_pred=cls_pred[0:9])"
      ],
      "execution_count": 0,
      "outputs": []
    },
    {
      "metadata": {
        "id": "fj2cypSHhmOr",
        "colab_type": "code",
        "colab": {}
      },
      "cell_type": "code",
      "source": [
        "def print_accuracy():\n",
        "  \n",
        "  \n",
        "  feed_dict_test = {x:data.test.images,y_true:data.test.labels}\n",
        "  acc = session.run(accuracy,feed_dict=feed_dict_test)\n",
        "  \n",
        "  print(\"Accuracy fo test-set:{0:.4%}\".format(acc))"
      ],
      "execution_count": 0,
      "outputs": []
    },
    {
      "metadata": {
        "id": "uf939R0RhuDU",
        "colab_type": "code",
        "outputId": "1722f24b-c7e6-4724-9aa2-e1274f0c2375",
        "colab": {
          "base_uri": "https://localhost:8080/",
          "height": 34
        }
      },
      "cell_type": "code",
      "source": [
        "print_accuracy()\n",
        "optimizer(100)"
      ],
      "execution_count": 0,
      "outputs": [
        {
          "output_type": "stream",
          "text": [
            "Accuracy o test-set:95.1400%\n"
          ],
          "name": "stdout"
        }
      ]
    }
  ]
}