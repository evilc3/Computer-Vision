{
  "nbformat": 4,
  "nbformat_minor": 0,
  "metadata": {
    "colab": {
      "name": "CNN(android_app).ipynb",
      "version": "0.3.2",
      "provenance": [],
      "collapsed_sections": []
    },
    "kernelspec": {
      "name": "python3",
      "display_name": "Python 3"
    },
    "accelerator": "GPU"
  },
  "cells": [
    {
      "metadata": {
        "id": "amG20j_mJF4n",
        "colab_type": "code",
        "colab": {}
      },
      "cell_type": "code",
      "source": [
        "import numpy as np\n",
        "import matplotlib.pyplot as plt\n",
        "%matplotlib inline\n",
        "from sklearn.model_selection import train_test_split\n",
        "from sklearn.metrics import confusion_matrix"
      ],
      "execution_count": 0,
      "outputs": []
    },
    {
      "metadata": {
        "id": "bkB6TCFX5SpQ",
        "colab_type": "code",
        "outputId": "075e6368-bbbc-4606-c168-78b57294655c",
        "colab": {
          "base_uri": "https://localhost:8080/",
          "height": 71
        }
      },
      "cell_type": "code",
      "source": [
        "from keras.datasets import mnist\n",
        "\n",
        "\n",
        "\n",
        "(train_x,train_y),(val_x,val_y) = mnist.load_data() \n"
      ],
      "execution_count": 3,
      "outputs": [
        {
          "output_type": "stream",
          "text": [
            "Using TensorFlow backend.\n"
          ],
          "name": "stderr"
        },
        {
          "output_type": "stream",
          "text": [
            "Downloading data from https://s3.amazonaws.com/img-datasets/mnist.npz\n",
            "11493376/11490434 [==============================] - 1s 0us/step\n"
          ],
          "name": "stdout"
        }
      ]
    },
    {
      "metadata": {
        "id": "yuvf1NNcMpHA",
        "colab_type": "code",
        "outputId": "26348e01-0fca-4a77-a2dc-74c02893c70e",
        "colab": {
          "base_uri": "https://localhost:8080/",
          "height": 298
        }
      },
      "cell_type": "code",
      "source": [
        "\n",
        "plt.imshow(train_x[0].reshape(28,28),cmap = 'gray')\n",
        "plt.title(\"28 X 28\")\n",
        "\n"
      ],
      "execution_count": 6,
      "outputs": [
        {
          "output_type": "execute_result",
          "data": {
            "text/plain": [
              "Text(0.5, 1.0, '28 X 28')"
            ]
          },
          "metadata": {
            "tags": []
          },
          "execution_count": 6
        },
        {
          "output_type": "display_data",
          "data": {
            "image/png": "[encoded data removed]",
            "text/plain": [
              "<Figure size 432x288 with 1 Axes>"
            ]
          },
          "metadata": {
            "tags": []
          }
        }
      ]
    },
    {
      "metadata": {
        "id": "zY0n6mLIMo-U",
        "colab_type": "code",
        "colab": {}
      },
      "cell_type": "code",
      "source": [
        "# reshaping  -1 allows us to insput n num. of images .\n",
        "\n",
        "train_x = train_x.reshape(-1,28,28,1)\n",
        "val_x = val_x.reshape(-1,28,28,1)"
      ],
      "execution_count": 0,
      "outputs": []
    },
    {
      "metadata": {
        "id": "z_e6OlpNMo6C",
        "colab_type": "code",
        "colab": {}
      },
      "cell_type": "code",
      "source": [
        "# to make the net converge faster .\n",
        "\n",
        "train_x = train_x.astype(\"float32\")/255.\n",
        "val_x = val_x.astype(\"float32\")/255."
      ],
      "execution_count": 0,
      "outputs": []
    },
    {
      "metadata": {
        "id": "_OWWJNxp6KMD",
        "colab_type": "code",
        "outputId": "7adb03e4-41e8-4b43-afc6-3e0ba9645245",
        "colab": {
          "base_uri": "https://localhost:8080/",
          "height": 283
        }
      },
      "cell_type": "code",
      "source": [
        "plt.imshow(train_x[0].reshape(28,28))"
      ],
      "execution_count": 0,
      "outputs": [
        {
          "output_type": "execute_result",
          "data": {
            "text/plain": [
              "<matplotlib.image.AxesImage at 0x7ff769d17ef0>"
            ]
          },
          "metadata": {
            "tags": []
          },
          "execution_count": 35
        },
        {
          "output_type": "display_data",
          "data": {
            "image/png": "[encoded data removed]",
            "text/plain": [
              "<Figure size 432x288 with 1 Axes>"
            ]
          },
          "metadata": {
            "tags": []
          }
        }
      ]
    },
    {
      "metadata": {
        "id": "PnUnsoHMMo1G",
        "colab_type": "code",
        "colab": {}
      },
      "cell_type": "code",
      "source": [
        "# keras libraries \n",
        "from keras.utils.np_utils import to_categorical # convert to one-hot-encoding\n",
        "from keras.models import Sequential\n",
        "from keras.layers import Dense, Dropout, Flatten, Conv2D, MaxPool2D, BatchNormalization\n",
        "from keras.optimizers import Adam\n",
        "from keras.preprocessing.image import ImageDataGenerator\n",
        "from keras.callbacks import LearningRateScheduler"
      ],
      "execution_count": 0,
      "outputs": []
    },
    {
      "metadata": {
        "id": "J5-_IxwgMovu",
        "colab_type": "code",
        "outputId": "6e53921c-b588-44af-c015-b4919992ed71",
        "colab": {
          "base_uri": "https://localhost:8080/",
          "height": 125
        }
      },
      "cell_type": "code",
      "source": [
        "## convert to categoriacal\n",
        "\n",
        "\n",
        "print(\"Y_data {}\".format(train_y[0:5]))\n",
        "\n",
        "cat_train_y = to_categorical(train_y)\n",
        "\n",
        "print(\"categorial value {}\".format(cat_train_y[0:5]))\n",
        "\n",
        "#train_y.shape\n",
        "\n",
        "cat_val_y = to_categorical(val_y)\n",
        "\n",
        "\n"
      ],
      "execution_count": 0,
      "outputs": [
        {
          "output_type": "stream",
          "text": [
            "Y_data [5 0 4 1 9]\n",
            "categorial value [[0. 0. 0. 0. 0. 1. 0. 0. 0. 0.]\n",
            " [1. 0. 0. 0. 0. 0. 0. 0. 0. 0.]\n",
            " [0. 0. 0. 0. 1. 0. 0. 0. 0. 0.]\n",
            " [0. 1. 0. 0. 0. 0. 0. 0. 0. 0.]\n",
            " [0. 0. 0. 0. 0. 0. 0. 0. 0. 1.]]\n"
          ],
          "name": "stdout"
        }
      ]
    },
    {
      "metadata": {
        "id": "sTBE3bDYMopH",
        "colab_type": "code",
        "colab": {}
      },
      "cell_type": "code",
      "source": [
        "#defining the model\n",
        "\n",
        "\n",
        "model = Sequential()\n",
        "\n",
        "model.add(Conv2D(filters = 16 , input_shape = (28,28,1),kernel_size = (3,3),activation = 'relu',name = 'mul'))\n",
        "\n",
        "# learn more abt batch normalization\n",
        "\n",
        "\n",
        "model.add(Conv2D(filters = 16 , kernel_size = (3,3) , activation = 'relu'))\n",
        "\n",
        "model.add(MaxPool2D(strides = (2,2)))\n",
        "\n",
        "model.add(Dropout(0.25))\n",
        "\n",
        "model.add(Conv2D(filters = 32 , kernel_size = (3,3) , activation = 'relu'))\n",
        "\n",
        "model.add(BatchNormalization())\n",
        "\n",
        "model.add(Conv2D(filters = 32 ,kernel_size = (3,3),activation = 'relu'))\n",
        "\n",
        "model.add(BatchNormalization())\n",
        "\n",
        "model.add(MaxPool2D(strides = (2,2)))\n",
        "\n",
        "model.add(Dropout(0.25))\n",
        "\n",
        "model.add(Flatten())\n",
        "\n",
        "\n",
        "model.add(Dense(512,activation = 'relu'))\n",
        "\n",
        "model.add(Dropout(0.25))\n",
        "\n",
        "model.add(Dense(1024,activation = 'relu'))\n",
        "\n",
        "model.add(Dropout( 0.5))\n",
        "\n",
        "model.add(Dense(10,activation = 'relu',name = 'final_value'))\n"
      ],
      "execution_count": 0,
      "outputs": []
    },
    {
      "metadata": {
        "id": "jNKGxq3iYvnv",
        "colab_type": "code",
        "outputId": "c0eca047-024b-4f4d-c2dc-0497c0a28ac6",
        "colab": {
          "base_uri": "https://localhost:8080/",
          "height": 719
        }
      },
      "cell_type": "code",
      "source": [
        "model.summary()"
      ],
      "execution_count": 0,
      "outputs": [
        {
          "output_type": "stream",
          "text": [
            "_________________________________________________________________\n",
            "Layer (type)                 Output Shape              Param #   \n",
            "=================================================================\n",
            "mul (Conv2D)                 (None, 26, 26, 16)        160       \n",
            "_________________________________________________________________\n",
            "conv2d_7 (Conv2D)            (None, 24, 24, 16)        2320      \n",
            "_________________________________________________________________\n",
            "max_pooling2d_5 (MaxPooling2 (None, 12, 12, 16)        0         \n",
            "_________________________________________________________________\n",
            "dropout_9 (Dropout)          (None, 12, 12, 16)        0         \n",
            "_________________________________________________________________\n",
            "conv2d_8 (Conv2D)            (None, 10, 10, 32)        4640      \n",
            "_________________________________________________________________\n",
            "batch_normalization_5 (Batch (None, 10, 10, 32)        128       \n",
            "_________________________________________________________________\n",
            "conv2d_9 (Conv2D)            (None, 8, 8, 32)          9248      \n",
            "_________________________________________________________________\n",
            "batch_normalization_6 (Batch (None, 8, 8, 32)          128       \n",
            "_________________________________________________________________\n",
            "max_pooling2d_6 (MaxPooling2 (None, 4, 4, 32)          0         \n",
            "_________________________________________________________________\n",
            "dropout_10 (Dropout)         (None, 4, 4, 32)          0         \n",
            "_________________________________________________________________\n",
            "flatten_3 (Flatten)          (None, 512)               0         \n",
            "_________________________________________________________________\n",
            "dense_5 (Dense)              (None, 512)               262656    \n",
            "_________________________________________________________________\n",
            "dropout_11 (Dropout)         (None, 512)               0         \n",
            "_________________________________________________________________\n",
            "dense_6 (Dense)              (None, 1024)              525312    \n",
            "_________________________________________________________________\n",
            "dropout_12 (Dropout)         (None, 1024)              0         \n",
            "_________________________________________________________________\n",
            "final_value (Dense)          (None, 10)                10250     \n",
            "=================================================================\n",
            "Total params: 814,842\n",
            "Trainable params: 814,714\n",
            "Non-trainable params: 128\n",
            "_________________________________________________________________\n"
          ],
          "name": "stdout"
        }
      ]
    },
    {
      "metadata": {
        "id": "KLlT1wWEphu7",
        "colab_type": "code",
        "outputId": "d4264c36-4cb0-4866-fbd5-f6c066644bb6",
        "colab": {
          "base_uri": "https://localhost:8080/",
          "height": 53
        }
      },
      "cell_type": "code",
      "source": [
        "print(model.inputs)\n",
        "print(model.outputs)"
      ],
      "execution_count": 0,
      "outputs": [
        {
          "output_type": "stream",
          "text": [
            "[<tf.Tensor 'mul_input_2:0' shape=(?, 28, 28, 1) dtype=float32>]\n",
            "[<tf.Tensor 'final_value_2/Relu:0' shape=(?, 10) dtype=float32>]\n"
          ],
          "name": "stdout"
        }
      ]
    },
    {
      "metadata": {
        "id": "BT7NH0sUWSLK",
        "colab_type": "code",
        "colab": {}
      },
      "cell_type": "code",
      "source": [
        "# augmentatioon\n",
        "\n",
        "datagen = ImageDataGenerator(zoom_range = 0.1,\n",
        "                            height_shift_range = 0.1,\n",
        "                            width_shift_range = 0.1,\n",
        "                            horizontal_flip = True,\n",
        "                            vertical_flip = True)\n",
        "\n",
        "\n"
      ],
      "execution_count": 0,
      "outputs": []
    },
    {
      "metadata": {
        "id": "gvGg-7X9egK6",
        "colab_type": "code",
        "colab": {}
      },
      "cell_type": "code",
      "source": [
        "#this cell is used to convert the keras models to a .pb file model -- converts from  .h5 to .pb file.\n",
        "\n",
        "\n",
        "\n",
        "import numpy as np\n",
        "import tensorflow as tf\n",
        "\n",
        "\n",
        "def freeze_session(session, keep_var_names=None, output_names=None, clear_devices=True):\n",
        "    \"\"\"\n",
        "    Freezes the state of a session into a pruned computation graph.\n",
        "\n",
        "    Creates a new computation graph where variable nodes are replaced by\n",
        "    constants taking their current value in the session. The new graph will be\n",
        "    pruned so subgraphs that are not necessary to compute the requested\n",
        "    outputs are removed.\n",
        "    @param session The TensorFlow session to be frozen.\n",
        "    @param keep_var_names A list of variable names that should not be frozen,\n",
        "                          or None to freeze all the variables in the graph.\n",
        "    @param output_names Names of the relevant graph outputs.\n",
        "    @param clear_devices Remove the device directives from the graph for better portability.\n",
        "    @return The frozen graph definition.\n",
        "    \"\"\"\n",
        "    \n",
        "    session.run(tf.initialize_all_variables())\n",
        "    graph = session.graph\n",
        "    \n",
        "    with graph.as_default():\n",
        "        freeze_var_names = list(set(v.op.name for v in tf.global_variables()).difference(keep_var_names or []))\n",
        "        print('freeze_var_names:',freeze_var_names)\n",
        "        output_names = output_names or []\n",
        "        output_names += [v.op.name for v in tf.global_variables()]\n",
        "        input_graph_def = graph.as_graph_def()\n",
        "        if clear_devices:\n",
        "            for node in input_graph_def.node:\n",
        "                node.device = ''\n",
        "        frozen_graph = tf.graph_util.convert_variables_to_constants(\n",
        "            session, input_graph_def, output_names, freeze_var_names)\n",
        "        return frozen_graph\n",
        "\n",
        "\n",
        "\n"
      ],
      "execution_count": 0,
      "outputs": []
    },
    {
      "metadata": {
        "id": "D9xTyuWZb_NG",
        "colab_type": "code",
        "colab": {}
      },
      "cell_type": "code",
      "source": [
        "# compiing the model\n",
        "\n",
        "model.compile(loss = 'categorical_crossentropy',optimizer = Adam(lr = 1e-4) ,\\\n",
        "metrics =['accuracy'])"
      ],
      "execution_count": 0,
      "outputs": []
    },
    {
      "metadata": {
        "id": "poMD3ZcFb_IH",
        "colab_type": "code",
        "colab": {}
      },
      "cell_type": "code",
      "source": [
        "## new thing changing the leaning rate while traiing\n",
        "\n",
        "annealer = LearningRateScheduler(lambda x: 1e-3 * 0.9 ** x)\n",
        "\n",
        "from keras.callbacks import EarlyStopping\n",
        "\n",
        "\n",
        "stopper = EarlyStopping(monitor ='val_loss', min_delta=0.0001, patience=5, verbose=1, mode='auto', baseline=None, restore_best_weights=True)\n",
        "\n",
        "\n"
      ],
      "execution_count": 0,
      "outputs": []
    },
    {
      "metadata": {
        "id": "jvOvwBtEb_BG",
        "colab_type": "code",
        "outputId": "1b0d7dde-d1d9-4401-fc16-a483def094f2",
        "colab": {
          "base_uri": "https://localhost:8080/",
          "height": 487
        }
      },
      "cell_type": "code",
      "source": [
        "hist = model.fit(train_x, cat_train_y, batch_size=128,\n",
        "                           \n",
        "                           epochs=10, #Increase this when not on Kaggle kernel\n",
        "                           verbose=1,  #1 for ETA, 0 for silent\n",
        "                           validation_data=(val_x, cat_val_y), #For speed\n",
        "                           callbacks=[annealer])\n",
        "\n",
        "import keras\n",
        "model.save('./counter_700.h5')\n",
        "\n",
        "frozen_graph = freeze_session(keras.backend.get_session(), output_names=[out.op.name for out in model.outputs])\n",
        "tf.train.write_graph(frozen_graph, './', 'counter_700.pbtxt', as_text=True)\n",
        "tf.train.write_graph(frozen_graph, './', 'counter_700.pb', as_text=False)\n"
      ],
      "execution_count": 0,
      "outputs": [
        {
          "output_type": "stream",
          "text": [
            "Train on 60000 samples, validate on 10000 samples\n",
            "Epoch 1/10\n",
            "60000/60000 [==============================] - 7s 122us/step - loss: 1.9372 - acc: 0.4053 - val_loss: 1.0508 - val_acc: 0.8574\n",
            "Epoch 2/10\n",
            "60000/60000 [==============================] - 7s 120us/step - loss: 0.8621 - acc: 0.8302 - val_loss: 0.4032 - val_acc: 0.9272\n",
            "Epoch 3/10\n",
            "60000/60000 [==============================] - 7s 120us/step - loss: 0.7089 - acc: 0.8670 - val_loss: 0.3512 - val_acc: 0.9360\n",
            "Epoch 4/10\n",
            "60000/60000 [==============================] - 8s 126us/step - loss: 0.5175 - acc: 0.9062 - val_loss: 0.3088 - val_acc: 0.9344\n",
            "Epoch 5/10\n",
            "60000/60000 [==============================] - 9s 144us/step - loss: 0.6277 - acc: 0.8742 - val_loss: 0.2803 - val_acc: 0.9519\n",
            "Epoch 6/10\n",
            "60000/60000 [==============================] - 9s 144us/step - loss: 0.4612 - acc: 0.9228 - val_loss: 0.2343 - val_acc: 0.9556\n",
            "Epoch 7/10\n",
            "60000/60000 [==============================] - 9s 144us/step - loss: 0.3996 - acc: 0.9303 - val_loss: 0.2156 - val_acc: 0.9625\n",
            "Epoch 8/10\n",
            "60000/60000 [==============================] - 9s 157us/step - loss: 0.3564 - acc: 0.9367 - val_loss: 0.1657 - val_acc: 0.9667\n",
            "Epoch 9/10\n",
            "60000/60000 [==============================] - 8s 127us/step - loss: 0.3258 - acc: 0.9425 - val_loss: 0.1637 - val_acc: 0.9677\n",
            "Epoch 10/10\n",
            "60000/60000 [==============================] - 7s 122us/step - loss: 0.2991 - acc: 0.9444 - val_loss: 0.1511 - val_acc: 0.9648\n",
            "freeze_var_names: ['training_2/Adam/Variable_20', 'Adam/lr', 'training_1/Adam/Variable_8', 'training_2/Adam/Variable_45', 'training_2/Adam/Variable_25', 'training_2/Adam/Variable_42', 'training/Adam/Variable_45', 'batch_normalization_1/moving_mean/biased', 'training/Adam/Variable_26', 'dense_1/bias', 'training_1/Adam/Variable_31', 'training_2/Adam/Variable_5', 'training_2/Adam/Variable_4', 'training_1/Adam/Variable_1', 'batch_normalization_6/beta', 'batch_normalization_1/beta', 'training/Adam/Variable_23', 'training_2/Adam/Variable_47', 'batch_normalization_4/beta', 'training_2/Adam/Variable_29', 'batch_normalization_2/moving_variance/local_step', 'training/Adam/Variable_28', 'training/Adam/Variable_29', 'training/Adam/Variable_7', 'training/Adam/Variable_53', 'Adam_2/lr', 'conv2d_7/bias', 'Adam_2/decay', 'training_1/Adam/Variable_36', 'Adam_1/beta_2', 'batch_normalization_2/moving_variance', 'training/Adam/Variable_35', 'final_value_1/kernel', 'batch_normalization_1/gamma', 'training_2/Adam/Variable_53', 'training/Adam/Variable_27', 'batch_normalization_3/moving_mean/local_step', 'training/Adam/Variable_32', 'training_1/Adam/Variable_42', 'training/Adam/Variable_47', 'batch_normalization_5/moving_mean', 'training/Adam/Variable_33', 'conv2d_7/kernel', 'training_2/Adam/Variable_18', 'training_1/Adam/Variable_24', 'training_2/Adam/Variable_12', 'training_2/Adam/Variable_37', 'batch_normalization_1/moving_variance/local_step', 'dense_5/bias', 'training/Adam/Variable_43', 'batch_normalization_5/moving_variance/local_step', 'training_2/Adam/Variable_24', 'batch_normalization_4/gamma', 'conv2d_4/bias', 'training_1/Adam/Variable_3', 'training_2/Adam/Variable_23', 'training_1/Adam/Variable_26', 'training_2/Adam/Variable_35', 'training_2/Adam/Variable_1', 'batch_normalization_2/gamma', 'training/Adam/Variable_20', 'batch_normalization_3/beta', 'training/Adam/Variable_25', 'training/Adam/Variable_4', 'batch_normalization_3/moving_mean', 'dense_2/bias', 'batch_normalization_4/moving_variance/local_step', 'training_2/Adam/Variable_51', 'dense_3/kernel', 'training_1/Adam/Variable_46', 'batch_normalization_3/gamma', 'batch_normalization_2/moving_mean/biased', 'training/Adam/Variable_15', 'conv2d_2/bias', 'training_1/Adam/Variable_4', 'final_value_2/kernel', 'training_1/Adam/Variable_41', 'Adam_2/beta_2', 'batch_normalization_5/moving_variance', 'training_2/Adam/Variable_27', 'training_2/Adam/Variable_15', 'batch_normalization_6/moving_mean/biased', 'training_1/Adam/Variable_49', 'training_1/Adam/Variable_52', 'training_2/Adam/Variable_6', 'training_2/Adam/Variable_16', 'training_1/Adam/Variable_35', 'training_2/Adam/Variable_11', 'training_1/Adam/Variable_53', 'Adam_1/lr', 'batch_normalization_5/moving_variance/biased', 'training/Adam/Variable_34', 'Adam/decay', 'training_1/Adam/Variable_37', 'training/Adam/Variable_51', 'batch_normalization_5/moving_mean/biased', 'training_2/Adam/Variable_14', 'batch_normalization_1/moving_mean', 'batch_normalization_5/gamma', 'mul/kernel', 'training/Adam/Variable_12', 'training_1/Adam/Variable_44', 'training_1/Adam/Variable_39', 'Adam_1/beta_1', 'dense_4/kernel', 'Adam/iterations', 'training_1/Adam/Variable_6', 'training_2/Adam/Variable_3', 'Adam_1/decay', 'dense_1/kernel', 'training_2/Adam/Variable_13', 'batch_normalization_4/moving_mean', 'dense_4/bias', 'training/Adam/Variable_48', 'training_1/Adam/Variable_13', 'training_2/Adam/Variable_26', 'batch_normalization_6/moving_mean/local_step', 'conv2d_8/bias', 'dense_6/bias', 'training_2/Adam/Variable_2', 'training_2/Adam/Variable_7', 'conv2d_1/bias', 'training/Adam/Variable_49', 'batch_normalization_6/gamma', 'training/Adam/Variable_3', 'conv2d_5/kernel', 'batch_normalization_2/beta', 'batch_normalization_2/moving_variance/biased', 'batch_normalization_1/moving_variance', 'training_1/Adam/Variable_7', 'training_1/Adam/Variable_12', 'training/Adam/Variable_42', 'mul_2/kernel', 'conv2d_6/kernel', 'training_2/Adam/Variable_10', 'training_1/Adam/Variable_47', 'training_1/Adam/Variable_50', 'batch_normalization_6/moving_variance/biased', 'training_1/Adam/Variable_51', 'batch_normalization_2/moving_mean', 'training/Adam/Variable_46', 'training_2/Adam/Variable_32', 'training_2/Adam/Variable_33', 'training_2/Adam/Variable_46', 'batch_normalization_4/moving_variance', 'batch_normalization_6/moving_variance/local_step', 'mul_1/bias', 'training/Adam/Variable_41', 'training_1/Adam/Variable_16', 'training_2/Adam/Variable_39', 'conv2d_3/kernel', 'batch_normalization_5/beta', 'training_2/Adam/Variable_9', 'training_2/Adam/Variable_48', 'training/Adam/Variable_17', 'training_2/Adam/Variable_38', 'training/Adam/Variable_31', 'batch_normalization_3/moving_variance/local_step', 'final_value/bias', 'training/Adam/Variable_52', 'training_1/Adam/Variable_18', 'training/Adam/Variable_6', 'batch_normalization_4/moving_variance/biased', 'training_1/Adam/Variable_30', 'training/Adam/Variable_2', 'training/Adam/Variable_18', 'training_1/Adam/Variable_14', 'training/Adam/Variable_40', 'training_1/Adam/Variable_27', 'training_2/Adam/Variable_34', 'training_1/Adam/Variable_38', 'training/Adam/Variable_10', 'final_value_1/bias', 'training_1/Adam/Variable_29', 'conv2d_9/kernel', 'training/Adam/Variable_1', 'training_1/Adam/Variable_25', 'training_2/Adam/Variable_17', 'conv2d_9/bias', 'mul/bias', 'batch_normalization_2/moving_mean/local_step', 'conv2d_8/kernel', 'training_2/Adam/Variable_40', 'batch_normalization_3/moving_variance', 'final_value/kernel', 'training_2/Adam/Variable', 'batch_normalization_5/moving_mean/local_step', 'conv2d_1/kernel', 'training_1/Adam/Variable_10', 'training/Adam/Variable_13', 'training_1/Adam/Variable_21', 'batch_normalization_1/moving_variance/biased', 'training_2/Adam/Variable_22', 'conv2d_4/kernel', 'Adam_1/iterations', 'training/Adam/Variable_30', 'conv2d_5/bias', 'training_2/Adam/Variable_8', 'training_1/Adam/Variable_2', 'training_2/Adam/Variable_36', 'training_2/Adam/Variable_41', 'training/Adam/Variable_9', 'training/Adam/Variable_16', 'training_1/Adam/Variable_19', 'training_2/Adam/Variable_44', 'batch_normalization_6/moving_mean', 'batch_normalization_3/moving_mean/biased', 'training_2/Adam/Variable_43', 'training_2/Adam/Variable_30', 'training_1/Adam/Variable_32', 'training_1/Adam/Variable_34', 'conv2d_3/bias', 'training_1/Adam/Variable_9', 'training/Adam/Variable_39', 'training_2/Adam/Variable_19', 'Adam_2/beta_1', 'training_1/Adam/Variable_15', 'training_2/Adam/Variable_52', 'dense_5/kernel', 'training_2/Adam/Variable_28', 'Adam/beta_1', 'training/Adam/Variable_14', 'dense_6/kernel', 'dense_3/bias', 'training_1/Adam/Variable_17', 'mul_2/bias', 'batch_normalization_3/moving_variance/biased', 'training_1/Adam/Variable_33', 'training_2/Adam/Variable_21', 'training_1/Adam/Variable_5', 'training/Adam/Variable_5', 'training/Adam/Variable_22', 'training_1/Adam/Variable_20', 'training_2/Adam/Variable_31', 'training_2/Adam/Variable_49', 'training/Adam/Variable_36', 'final_value_2/bias', 'training_1/Adam/Variable_48', 'training_1/Adam/Variable_22', 'training_1/Adam/Variable_23', 'training/Adam/Variable_21', 'training/Adam/Variable_37', 'batch_normalization_4/moving_mean/biased', 'training/Adam/Variable_44', 'training_1/Adam/Variable_28', 'mul_1/kernel', 'training/Adam/Variable_50', 'training_1/Adam/Variable', 'training/Adam/Variable_8', 'training/Adam/Variable_11', 'training_1/Adam/Variable_43', 'Adam_2/iterations', 'conv2d_6/bias', 'dense_2/kernel', 'batch_normalization_4/moving_mean/local_step', 'Adam/beta_2', 'training/Adam/Variable_19', 'training_1/Adam/Variable_11', 'conv2d_2/kernel', 'training_1/Adam/Variable_45', 'training/Adam/Variable_38', 'training/Adam/Variable_24', 'batch_normalization_6/moving_variance', 'training_2/Adam/Variable_50', 'batch_normalization_1/moving_mean/local_step', 'training/Adam/Variable', 'training_1/Adam/Variable_40']\n",
            "INFO:tensorflow:Froze 267 variables.\n",
            "INFO:tensorflow:Converted 267 variables to const ops.\n"
          ],
          "name": "stdout"
        },
        {
          "output_type": "execute_result",
          "data": {
            "text/plain": [
              "'./counter_700.pb'"
            ]
          },
          "metadata": {
            "tags": []
          },
          "execution_count": 56
        }
      ]
    },
    {
      "metadata": {
        "id": "FYRZwqmS4Xs-",
        "colab_type": "code",
        "outputId": "f1f906b5-76bb-4b55-f0e3-6f6d418becb5",
        "colab": {
          "base_uri": "https://localhost:8080/",
          "height": 35
        }
      },
      "cell_type": "code",
      "source": [
        "train_x[0].shape"
      ],
      "execution_count": 0,
      "outputs": [
        {
          "output_type": "execute_result",
          "data": {
            "text/plain": [
              "(28, 28, 1)"
            ]
          },
          "metadata": {
            "tags": []
          },
          "execution_count": 59
        }
      ]
    },
    {
      "metadata": {
        "id": "1S7_yKv-6GuV",
        "colab_type": "code",
        "outputId": "38e9190e-365d-497f-e329-0a620711b114",
        "colab": {
          "base_uri": "https://localhost:8080/",
          "height": 319
        }
      },
      "cell_type": "code",
      "source": [
        "#score = model.evaluate(train_x,cat_train_y)\n",
        "\n",
        "i = 10\n",
        "\n",
        "a = model.predict(val_x[i].reshape(1,28,28,1))\n",
        "plt.imshow(val_x[i].reshape(28,28))\n",
        "print(a)\n",
        "np.argmin(a,axis =1)\n",
        "\n"
      ],
      "execution_count": 0,
      "outputs": [
        {
          "output_type": "stream",
          "text": [
            "[[0.0000000e+00 0.0000000e+00 3.8220620e-05 9.1146198e-05 0.0000000e+00\n",
            "  0.0000000e+00 4.6496669e-05 4.5137378e-05 4.9301874e-05 0.0000000e+00]]\n"
          ],
          "name": "stdout"
        },
        {
          "output_type": "execute_result",
          "data": {
            "text/plain": [
              "array([0])"
            ]
          },
          "metadata": {
            "tags": []
          },
          "execution_count": 68
        },
        {
          "output_type": "display_data",
          "data": {
            "image/png": "[encoded data removed]",
            "text/plain": [
              "<Figure size 432x288 with 1 Axes>"
            ]
          },
          "metadata": {
            "tags": []
          }
        }
      ]
    },
    {
      "metadata": {
        "id": "fkPKR-N3CdcH",
        "colab_type": "code",
        "colab": {}
      },
      "cell_type": "code",
      "source": [
        "output_names=[out.op.name for out in model.outputs]\n",
        "\n",
        "output_names"
      ],
      "execution_count": 0,
      "outputs": []
    }
  ]
}